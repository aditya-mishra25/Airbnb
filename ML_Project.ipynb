{
  "nbformat": 4,
  "nbformat_minor": 0,
  "metadata": {
    "colab": {
      "name": "ML Project.ipynb",
      "provenance": []
    },
    "kernelspec": {
      "name": "python3",
      "display_name": "Python 3"
    }
  },
  "cells": [
    {
      "cell_type": "code",
      "metadata": {
        "id": "Gc42vElwdZao"
      },
      "source": [
        "from sklearn import preprocessing, metrics\n",
        "from sklearn.linear_model import LinearRegression\n",
        "from sklearn.linear_model import Lasso\n",
        "from sklearn.ensemble import RandomForestRegressor\n",
        "from sklearn.model_selection import train_test_split\n",
        "import numpy as np\n",
        "import pandas as pd\n",
        "import seaborn as sns\n",
        "import matplotlib.pyplot as plt\n",
        "sns.set(style=\"ticks\", color_codes=True)\n",
        "import statsmodels.api as sm\n",
        "from scipy import stats"
      ],
      "execution_count": 7,
      "outputs": []
    },
    {
      "cell_type": "markdown",
      "metadata": {
        "id": "bjLDp3dl6eWG"
      },
      "source": [
        "# Load the dataset\n",
        "####(we have uploaded the dataset on our github repository and used it here)"
      ]
    },
    {
      "cell_type": "code",
      "metadata": {
        "id": "s0lLxkaNuZ-u",
        "outputId": "b053d390-7cd4-4053-c486-7287ea592a2a",
        "colab": {
          "base_uri": "https://localhost:8080/",
          "height": 400
        }
      },
      "source": [
        "airbnb = pd.read_csv(\"https://raw.githubusercontent.com/kratos2597/Airbnb/main/AB_NYC_2019.csv?token=AMID5XNLN3B2ORJ6EI24J527TUGXS\")\n",
        "airbnb.head(5)"
      ],
      "execution_count": 8,
      "outputs": [
        {
          "output_type": "execute_result",
          "data": {
            "text/html": [
              "<div>\n",
              "<style scoped>\n",
              "    .dataframe tbody tr th:only-of-type {\n",
              "        vertical-align: middle;\n",
              "    }\n",
              "\n",
              "    .dataframe tbody tr th {\n",
              "        vertical-align: top;\n",
              "    }\n",
              "\n",
              "    .dataframe thead th {\n",
              "        text-align: right;\n",
              "    }\n",
              "</style>\n",
              "<table border=\"1\" class=\"dataframe\">\n",
              "  <thead>\n",
              "    <tr style=\"text-align: right;\">\n",
              "      <th></th>\n",
              "      <th>id</th>\n",
              "      <th>name</th>\n",
              "      <th>host_id</th>\n",
              "      <th>host_name</th>\n",
              "      <th>neighbourhood_group</th>\n",
              "      <th>neighbourhood</th>\n",
              "      <th>latitude</th>\n",
              "      <th>longitude</th>\n",
              "      <th>room_type</th>\n",
              "      <th>price</th>\n",
              "      <th>minimum_nights</th>\n",
              "      <th>number_of_reviews</th>\n",
              "      <th>last_review</th>\n",
              "      <th>reviews_per_month</th>\n",
              "      <th>calculated_host_listings_count</th>\n",
              "      <th>availability_365</th>\n",
              "    </tr>\n",
              "  </thead>\n",
              "  <tbody>\n",
              "    <tr>\n",
              "      <th>0</th>\n",
              "      <td>2539</td>\n",
              "      <td>Clean &amp; quiet apt home by the park</td>\n",
              "      <td>2787</td>\n",
              "      <td>John</td>\n",
              "      <td>Brooklyn</td>\n",
              "      <td>Kensington</td>\n",
              "      <td>40.64749</td>\n",
              "      <td>-73.97237</td>\n",
              "      <td>Private room</td>\n",
              "      <td>149</td>\n",
              "      <td>1</td>\n",
              "      <td>9</td>\n",
              "      <td>2018-10-19</td>\n",
              "      <td>0.21</td>\n",
              "      <td>6</td>\n",
              "      <td>365</td>\n",
              "    </tr>\n",
              "    <tr>\n",
              "      <th>1</th>\n",
              "      <td>2595</td>\n",
              "      <td>Skylit Midtown Castle</td>\n",
              "      <td>2845</td>\n",
              "      <td>Jennifer</td>\n",
              "      <td>Manhattan</td>\n",
              "      <td>Midtown</td>\n",
              "      <td>40.75362</td>\n",
              "      <td>-73.98377</td>\n",
              "      <td>Entire home/apt</td>\n",
              "      <td>225</td>\n",
              "      <td>1</td>\n",
              "      <td>45</td>\n",
              "      <td>2019-05-21</td>\n",
              "      <td>0.38</td>\n",
              "      <td>2</td>\n",
              "      <td>355</td>\n",
              "    </tr>\n",
              "    <tr>\n",
              "      <th>2</th>\n",
              "      <td>3647</td>\n",
              "      <td>THE VILLAGE OF HARLEM....NEW YORK !</td>\n",
              "      <td>4632</td>\n",
              "      <td>Elisabeth</td>\n",
              "      <td>Manhattan</td>\n",
              "      <td>Harlem</td>\n",
              "      <td>40.80902</td>\n",
              "      <td>-73.94190</td>\n",
              "      <td>Private room</td>\n",
              "      <td>150</td>\n",
              "      <td>3</td>\n",
              "      <td>0</td>\n",
              "      <td>NaN</td>\n",
              "      <td>NaN</td>\n",
              "      <td>1</td>\n",
              "      <td>365</td>\n",
              "    </tr>\n",
              "    <tr>\n",
              "      <th>3</th>\n",
              "      <td>3831</td>\n",
              "      <td>Cozy Entire Floor of Brownstone</td>\n",
              "      <td>4869</td>\n",
              "      <td>LisaRoxanne</td>\n",
              "      <td>Brooklyn</td>\n",
              "      <td>Clinton Hill</td>\n",
              "      <td>40.68514</td>\n",
              "      <td>-73.95976</td>\n",
              "      <td>Entire home/apt</td>\n",
              "      <td>89</td>\n",
              "      <td>1</td>\n",
              "      <td>270</td>\n",
              "      <td>2019-07-05</td>\n",
              "      <td>4.64</td>\n",
              "      <td>1</td>\n",
              "      <td>194</td>\n",
              "    </tr>\n",
              "    <tr>\n",
              "      <th>4</th>\n",
              "      <td>5022</td>\n",
              "      <td>Entire Apt: Spacious Studio/Loft by central park</td>\n",
              "      <td>7192</td>\n",
              "      <td>Laura</td>\n",
              "      <td>Manhattan</td>\n",
              "      <td>East Harlem</td>\n",
              "      <td>40.79851</td>\n",
              "      <td>-73.94399</td>\n",
              "      <td>Entire home/apt</td>\n",
              "      <td>80</td>\n",
              "      <td>10</td>\n",
              "      <td>9</td>\n",
              "      <td>2018-11-19</td>\n",
              "      <td>0.10</td>\n",
              "      <td>1</td>\n",
              "      <td>0</td>\n",
              "    </tr>\n",
              "  </tbody>\n",
              "</table>\n",
              "</div>"
            ],
            "text/plain": [
              "     id  ... availability_365\n",
              "0  2539  ...              365\n",
              "1  2595  ...              355\n",
              "2  3647  ...              365\n",
              "3  3831  ...              194\n",
              "4  5022  ...                0\n",
              "\n",
              "[5 rows x 16 columns]"
            ]
          },
          "metadata": {
            "tags": []
          },
          "execution_count": 8
        }
      ]
    },
    {
      "cell_type": "code",
      "metadata": {
        "id": "HXBmEC0Mwj6S",
        "outputId": "cc6aa0d2-515e-40f1-beea-040bf64c3b94",
        "colab": {
          "base_uri": "https://localhost:8080/",
          "height": 334
        }
      },
      "source": [
        "### Check datatypes\n",
        "\n",
        "airbnb.dtypes"
      ],
      "execution_count": 9,
      "outputs": [
        {
          "output_type": "execute_result",
          "data": {
            "text/plain": [
              "id                                  int64\n",
              "name                               object\n",
              "host_id                             int64\n",
              "host_name                          object\n",
              "neighbourhood_group                object\n",
              "neighbourhood                      object\n",
              "latitude                          float64\n",
              "longitude                         float64\n",
              "room_type                          object\n",
              "price                               int64\n",
              "minimum_nights                      int64\n",
              "number_of_reviews                   int64\n",
              "last_review                        object\n",
              "reviews_per_month                 float64\n",
              "calculated_host_listings_count      int64\n",
              "availability_365                    int64\n",
              "dtype: object"
            ]
          },
          "metadata": {
            "tags": []
          },
          "execution_count": 9
        }
      ]
    },
    {
      "cell_type": "code",
      "metadata": {
        "id": "eQ89YQy0xH1y",
        "outputId": "774fba51-6447-4d4a-ece6-a66b2ca2acab",
        "colab": {
          "base_uri": "https://localhost:8080/",
          "height": 334
        }
      },
      "source": [
        "### Checking Null Values\n",
        "airbnb.isnull().sum()"
      ],
      "execution_count": 10,
      "outputs": [
        {
          "output_type": "execute_result",
          "data": {
            "text/plain": [
              "id                                    0\n",
              "name                                 16\n",
              "host_id                               0\n",
              "host_name                            21\n",
              "neighbourhood_group                   0\n",
              "neighbourhood                         0\n",
              "latitude                              0\n",
              "longitude                             0\n",
              "room_type                             0\n",
              "price                                 0\n",
              "minimum_nights                        0\n",
              "number_of_reviews                     0\n",
              "last_review                       10052\n",
              "reviews_per_month                 10052\n",
              "calculated_host_listings_count        0\n",
              "availability_365                      0\n",
              "dtype: int64"
            ]
          },
          "metadata": {
            "tags": []
          },
          "execution_count": 10
        }
      ]
    },
    {
      "cell_type": "markdown",
      "metadata": {
        "id": "AbrBv-nU7vAB"
      },
      "source": [
        "Let's replace reviews per month Nan by zero and null name and host name by NoName. Also, replace last review with \"Not Reviewed\"."
      ]
    },
    {
      "cell_type": "code",
      "metadata": {
        "id": "aPiqMt9c0Xif"
      },
      "source": [
        "airbnb.fillna({'reviews_per_month':0},inplace=True)\n",
        "airbnb.fillna({'name':\"NoName\"},inplace=True)\n",
        "airbnb.fillna({'host_name':\"NoName\"},inplace=True)\n",
        "airbnb.fillna({'last_review':\"NotReviewed\"},inplace=True)"
      ],
      "execution_count": 11,
      "outputs": []
    },
    {
      "cell_type": "code",
      "metadata": {
        "id": "VVL-TADx9FJt",
        "outputId": "43e02093-3bad-43ca-f7bb-619f2d7fd810",
        "colab": {
          "base_uri": "https://localhost:8080/",
          "height": 334
        }
      },
      "source": [
        "airbnb.isnull().sum()"
      ],
      "execution_count": 12,
      "outputs": [
        {
          "output_type": "execute_result",
          "data": {
            "text/plain": [
              "id                                0\n",
              "name                              0\n",
              "host_id                           0\n",
              "host_name                         0\n",
              "neighbourhood_group               0\n",
              "neighbourhood                     0\n",
              "latitude                          0\n",
              "longitude                         0\n",
              "room_type                         0\n",
              "price                             0\n",
              "minimum_nights                    0\n",
              "number_of_reviews                 0\n",
              "last_review                       0\n",
              "reviews_per_month                 0\n",
              "calculated_host_listings_count    0\n",
              "availability_365                  0\n",
              "dtype: int64"
            ]
          },
          "metadata": {
            "tags": []
          },
          "execution_count": 12
        }
      ]
    },
    {
      "cell_type": "code",
      "metadata": {
        "id": "J5CyrEB69VIm",
        "outputId": "44daf1ca-5966-42e7-e78e-6a2cd313a90f",
        "colab": {
          "base_uri": "https://localhost:8080/",
          "height": 185
        }
      },
      "source": [
        "### Price Column\n",
        "airbnb[\"price\"].describe()"
      ],
      "execution_count": 13,
      "outputs": [
        {
          "output_type": "execute_result",
          "data": {
            "text/plain": [
              "count    48895.000000\n",
              "mean       152.720687\n",
              "std        240.154170\n",
              "min          0.000000\n",
              "25%         69.000000\n",
              "50%        106.000000\n",
              "75%        175.000000\n",
              "max      10000.000000\n",
              "Name: price, dtype: float64"
            ]
          },
          "metadata": {
            "tags": []
          },
          "execution_count": 13
        }
      ]
    },
    {
      "cell_type": "markdown",
      "metadata": {
        "id": "3uxi4nCW-9Kq"
      },
      "source": [
        "We noticed that the average price is 152 and the price varies from 0 - 10K"
      ]
    },
    {
      "cell_type": "code",
      "metadata": {
        "id": "PcDrQ7Tu_IhH",
        "outputId": "2ae82099-b0b1-4539-ae3a-2284dbde3563",
        "colab": {
          "base_uri": "https://localhost:8080/",
          "height": 268
        }
      },
      "source": [
        "hist_price=airbnb[\"price\"].hist()\n",
        "### We observe that most listings have price less than $1000"
      ],
      "execution_count": 14,
      "outputs": [
        {
          "output_type": "display_data",
          "data": {
            "image/png": "[encoded data removed]",
            "text/plain": [
              "<Figure size 432x288 with 1 Axes>"
            ]
          },
          "metadata": {
            "tags": []
          }
        }
      ]
    },
    {
      "cell_type": "code",
      "metadata": {
        "id": "08gTys1pA5Aa",
        "outputId": "89a79301-7c75-4fcc-8968-9a38f6c7cb3c",
        "colab": {
          "base_uri": "https://localhost:8080/",
          "height": 268
        }
      },
      "source": [
        "### Let's plot histogram for prices less tha $2000\n",
        "hist_price1=airbnb[\"price\"][airbnb[\"price\"]<1000].hist()"
      ],
      "execution_count": 15,
      "outputs": [
        {
          "output_type": "display_data",
          "data": {
            "image/png": "[encoded data removed]",
            "text/plain": [
              "<Figure size 432x288 with 1 Axes>"
            ]
          },
          "metadata": {
            "tags": []
          }
        }
      ]
    },
    {
      "cell_type": "code",
      "metadata": {
        "id": "s91C8UEtFvow",
        "outputId": "6ca05f60-31bc-45b2-e367-38d91f058bc9",
        "colab": {
          "base_uri": "https://localhost:8080/",
          "height": 723
        }
      },
      "source": [
        "### Listings having price more than 1k\n",
        "airbnb[airbnb[\"price\"]>1000]"
      ],
      "execution_count": 16,
      "outputs": [
        {
          "output_type": "execute_result",
          "data": {
            "text/html": [
              "<div>\n",
              "<style scoped>\n",
              "    .dataframe tbody tr th:only-of-type {\n",
              "        vertical-align: middle;\n",
              "    }\n",
              "\n",
              "    .dataframe tbody tr th {\n",
              "        vertical-align: top;\n",
              "    }\n",
              "\n",
              "    .dataframe thead th {\n",
              "        text-align: right;\n",
              "    }\n",
              "</style>\n",
              "<table border=\"1\" class=\"dataframe\">\n",
              "  <thead>\n",
              "    <tr style=\"text-align: right;\">\n",
              "      <th></th>\n",
              "      <th>id</th>\n",
              "      <th>name</th>\n",
              "      <th>host_id</th>\n",
              "      <th>host_name</th>\n",
              "      <th>neighbourhood_group</th>\n",
              "      <th>neighbourhood</th>\n",
              "      <th>latitude</th>\n",
              "      <th>longitude</th>\n",
              "      <th>room_type</th>\n",
              "      <th>price</th>\n",
              "      <th>minimum_nights</th>\n",
              "      <th>number_of_reviews</th>\n",
              "      <th>last_review</th>\n",
              "      <th>reviews_per_month</th>\n",
              "      <th>calculated_host_listings_count</th>\n",
              "      <th>availability_365</th>\n",
              "    </tr>\n",
              "  </thead>\n",
              "  <tbody>\n",
              "    <tr>\n",
              "      <th>496</th>\n",
              "      <td>174966</td>\n",
              "      <td>Luxury 2Bed/2.5Bath Central Park View</td>\n",
              "      <td>836168</td>\n",
              "      <td>Henry</td>\n",
              "      <td>Manhattan</td>\n",
              "      <td>Upper West Side</td>\n",
              "      <td>40.77350</td>\n",
              "      <td>-73.98697</td>\n",
              "      <td>Entire home/apt</td>\n",
              "      <td>2000</td>\n",
              "      <td>30</td>\n",
              "      <td>30</td>\n",
              "      <td>2018-05-05</td>\n",
              "      <td>0.33</td>\n",
              "      <td>11</td>\n",
              "      <td>0</td>\n",
              "    </tr>\n",
              "    <tr>\n",
              "      <th>762</th>\n",
              "      <td>273190</td>\n",
              "      <td>6 Bedroom Landmark West Village Townhouse</td>\n",
              "      <td>605463</td>\n",
              "      <td>West Village</td>\n",
              "      <td>Manhattan</td>\n",
              "      <td>West Village</td>\n",
              "      <td>40.73301</td>\n",
              "      <td>-74.00268</td>\n",
              "      <td>Entire home/apt</td>\n",
              "      <td>1300</td>\n",
              "      <td>5</td>\n",
              "      <td>28</td>\n",
              "      <td>2018-09-25</td>\n",
              "      <td>0.31</td>\n",
              "      <td>4</td>\n",
              "      <td>297</td>\n",
              "    </tr>\n",
              "    <tr>\n",
              "      <th>946</th>\n",
              "      <td>363673</td>\n",
              "      <td>Beautiful 3 bedroom in Manhattan</td>\n",
              "      <td>256239</td>\n",
              "      <td>Tracey</td>\n",
              "      <td>Manhattan</td>\n",
              "      <td>Upper West Side</td>\n",
              "      <td>40.80142</td>\n",
              "      <td>-73.96931</td>\n",
              "      <td>Private room</td>\n",
              "      <td>3000</td>\n",
              "      <td>7</td>\n",
              "      <td>0</td>\n",
              "      <td>NotReviewed</td>\n",
              "      <td>0.00</td>\n",
              "      <td>1</td>\n",
              "      <td>365</td>\n",
              "    </tr>\n",
              "    <tr>\n",
              "      <th>1105</th>\n",
              "      <td>468613</td>\n",
              "      <td>$ (Phone number hidden by Airbnb) weeks - room f</td>\n",
              "      <td>2325861</td>\n",
              "      <td>Cynthia</td>\n",
              "      <td>Manhattan</td>\n",
              "      <td>Lower East Side</td>\n",
              "      <td>40.72152</td>\n",
              "      <td>-73.99279</td>\n",
              "      <td>Private room</td>\n",
              "      <td>1300</td>\n",
              "      <td>1</td>\n",
              "      <td>0</td>\n",
              "      <td>NotReviewed</td>\n",
              "      <td>0.00</td>\n",
              "      <td>1</td>\n",
              "      <td>0</td>\n",
              "    </tr>\n",
              "    <tr>\n",
              "      <th>1480</th>\n",
              "      <td>664047</td>\n",
              "      <td>Lux 2Bed/2.5Bath Central Park Views</td>\n",
              "      <td>836168</td>\n",
              "      <td>Henry</td>\n",
              "      <td>Manhattan</td>\n",
              "      <td>Upper West Side</td>\n",
              "      <td>40.77516</td>\n",
              "      <td>-73.98573</td>\n",
              "      <td>Entire home/apt</td>\n",
              "      <td>2000</td>\n",
              "      <td>30</td>\n",
              "      <td>59</td>\n",
              "      <td>2016-01-28</td>\n",
              "      <td>0.71</td>\n",
              "      <td>11</td>\n",
              "      <td>364</td>\n",
              "    </tr>\n",
              "    <tr>\n",
              "      <th>...</th>\n",
              "      <td>...</td>\n",
              "      <td>...</td>\n",
              "      <td>...</td>\n",
              "      <td>...</td>\n",
              "      <td>...</td>\n",
              "      <td>...</td>\n",
              "      <td>...</td>\n",
              "      <td>...</td>\n",
              "      <td>...</td>\n",
              "      <td>...</td>\n",
              "      <td>...</td>\n",
              "      <td>...</td>\n",
              "      <td>...</td>\n",
              "      <td>...</td>\n",
              "      <td>...</td>\n",
              "      <td>...</td>\n",
              "    </tr>\n",
              "    <tr>\n",
              "      <th>48080</th>\n",
              "      <td>36074198</td>\n",
              "      <td>Luxury apartment 2 min to times square</td>\n",
              "      <td>203565865</td>\n",
              "      <td>Vinícius</td>\n",
              "      <td>Manhattan</td>\n",
              "      <td>SoHo</td>\n",
              "      <td>40.72060</td>\n",
              "      <td>-74.00023</td>\n",
              "      <td>Entire home/apt</td>\n",
              "      <td>1308</td>\n",
              "      <td>2</td>\n",
              "      <td>0</td>\n",
              "      <td>NotReviewed</td>\n",
              "      <td>0.00</td>\n",
              "      <td>1</td>\n",
              "      <td>179</td>\n",
              "    </tr>\n",
              "    <tr>\n",
              "      <th>48304</th>\n",
              "      <td>36189195</td>\n",
              "      <td>Next to Times Square/Javits/MSG! Amazing 1BR!</td>\n",
              "      <td>270214015</td>\n",
              "      <td>Rogelio</td>\n",
              "      <td>Manhattan</td>\n",
              "      <td>Hell's Kitchen</td>\n",
              "      <td>40.75533</td>\n",
              "      <td>-73.99866</td>\n",
              "      <td>Entire home/apt</td>\n",
              "      <td>2999</td>\n",
              "      <td>30</td>\n",
              "      <td>0</td>\n",
              "      <td>NotReviewed</td>\n",
              "      <td>0.00</td>\n",
              "      <td>1</td>\n",
              "      <td>222</td>\n",
              "    </tr>\n",
              "    <tr>\n",
              "      <th>48305</th>\n",
              "      <td>36189257</td>\n",
              "      <td>2BR Near Museum Mile! Upper East Side!</td>\n",
              "      <td>272166348</td>\n",
              "      <td>Mary Rotsen</td>\n",
              "      <td>Manhattan</td>\n",
              "      <td>Upper East Side</td>\n",
              "      <td>40.78132</td>\n",
              "      <td>-73.95262</td>\n",
              "      <td>Entire home/apt</td>\n",
              "      <td>1999</td>\n",
              "      <td>30</td>\n",
              "      <td>0</td>\n",
              "      <td>NotReviewed</td>\n",
              "      <td>0.00</td>\n",
              "      <td>1</td>\n",
              "      <td>270</td>\n",
              "    </tr>\n",
              "    <tr>\n",
              "      <th>48523</th>\n",
              "      <td>36308562</td>\n",
              "      <td>Tasteful &amp; Trendy Brooklyn Brownstone, near Train</td>\n",
              "      <td>217732163</td>\n",
              "      <td>Sandy</td>\n",
              "      <td>Brooklyn</td>\n",
              "      <td>Bedford-Stuyvesant</td>\n",
              "      <td>40.68767</td>\n",
              "      <td>-73.95805</td>\n",
              "      <td>Entire home/apt</td>\n",
              "      <td>1369</td>\n",
              "      <td>1</td>\n",
              "      <td>0</td>\n",
              "      <td>NotReviewed</td>\n",
              "      <td>0.00</td>\n",
              "      <td>1</td>\n",
              "      <td>349</td>\n",
              "    </tr>\n",
              "    <tr>\n",
              "      <th>48535</th>\n",
              "      <td>36311055</td>\n",
              "      <td>Stunning &amp; Stylish Brooklyn Luxury, near Train</td>\n",
              "      <td>245712163</td>\n",
              "      <td>Urvashi</td>\n",
              "      <td>Brooklyn</td>\n",
              "      <td>Bedford-Stuyvesant</td>\n",
              "      <td>40.68245</td>\n",
              "      <td>-73.93417</td>\n",
              "      <td>Entire home/apt</td>\n",
              "      <td>1749</td>\n",
              "      <td>1</td>\n",
              "      <td>0</td>\n",
              "      <td>NotReviewed</td>\n",
              "      <td>0.00</td>\n",
              "      <td>1</td>\n",
              "      <td>303</td>\n",
              "    </tr>\n",
              "  </tbody>\n",
              "</table>\n",
              "<p>239 rows × 16 columns</p>\n",
              "</div>"
            ],
            "text/plain": [
              "             id  ... availability_365\n",
              "496      174966  ...                0\n",
              "762      273190  ...              297\n",
              "946      363673  ...              365\n",
              "1105     468613  ...                0\n",
              "1480     664047  ...              364\n",
              "...         ...  ...              ...\n",
              "48080  36074198  ...              179\n",
              "48304  36189195  ...              222\n",
              "48305  36189257  ...              270\n",
              "48523  36308562  ...              349\n",
              "48535  36311055  ...              303\n",
              "\n",
              "[239 rows x 16 columns]"
            ]
          },
          "metadata": {
            "tags": []
          },
          "execution_count": 16
        }
      ]
    },
    {
      "cell_type": "markdown",
      "metadata": {
        "id": "2mj5w1teGPCd"
      },
      "source": [
        "239 listings have price per day > 1000. These are either super lavish listings or there was an error during input. Nonetheless, since this records are skewing our data a lot, we will treat them as outliers and drop them."
      ]
    },
    {
      "cell_type": "code",
      "metadata": {
        "id": "lR7QY5kEHsil"
      },
      "source": [
        "airbnb = airbnb[airbnb['price']<1000]"
      ],
      "execution_count": 17,
      "outputs": []
    },
    {
      "cell_type": "code",
      "metadata": {
        "id": "nmyP9Sk0GkaS",
        "outputId": "7b079857-83fa-4491-cb03-d2f4b940da25",
        "colab": {
          "base_uri": "https://localhost:8080/",
          "height": 268
        }
      },
      "source": [
        "### We see a more Gaussian distribution here\n",
        "hist_price2 = airbnb[\"price\"][airbnb[\"price\"]<250].hist()"
      ],
      "execution_count": 18,
      "outputs": [
        {
          "output_type": "display_data",
          "data": {
            "image/png": "[encoded data removed]",
            "text/plain": [
              "<Figure size 432x288 with 1 Axes>"
            ]
          },
          "metadata": {
            "tags": []
          }
        }
      ]
    },
    {
      "cell_type": "code",
      "metadata": {
        "id": "7MykX7leHWDg"
      },
      "source": [
        "### We use 250 as threshold price \n",
        "airbnb = airbnb[airbnb[\"price\"]<250]"
      ],
      "execution_count": 19,
      "outputs": []
    },
    {
      "cell_type": "code",
      "metadata": {
        "id": "3P-YYAToG36r",
        "outputId": "11c6ca60-e944-4bfa-8372-bd2295978c69",
        "colab": {
          "base_uri": "https://localhost:8080/",
          "height": 185
        }
      },
      "source": [
        "### Looking at the price column again\n",
        "airbnb[\"price\"].describe()"
      ],
      "execution_count": 20,
      "outputs": [
        {
          "output_type": "execute_result",
          "data": {
            "text/plain": [
              "count    42669.000000\n",
              "mean       107.897748\n",
              "std         53.803457\n",
              "min          0.000000\n",
              "25%         65.000000\n",
              "50%         99.000000\n",
              "75%        150.000000\n",
              "max        249.000000\n",
              "Name: price, dtype: float64"
            ]
          },
          "metadata": {
            "tags": []
          },
          "execution_count": 20
        }
      ]
    },
    {
      "cell_type": "markdown",
      "metadata": {
        "id": "VF8lmriwITtT"
      },
      "source": [
        "We see that the average price is 107. Price varies between 0 to 249"
      ]
    },
    {
      "cell_type": "code",
      "metadata": {
        "id": "DbYnjWXTH6zj",
        "outputId": "3053d526-24c6-43fa-ac85-7b410ba5f89b",
        "colab": {
          "base_uri": "https://localhost:8080/",
          "height": 241
        }
      },
      "source": [
        "###There are 221 unique neighbourhoods in NYC as per this data set. Most listings are in Williamsburg\n",
        "airbnb['neighbourhood'].value_counts()"
      ],
      "execution_count": 21,
      "outputs": [
        {
          "output_type": "execute_result",
          "data": {
            "text/plain": [
              "Bedford-Stuyvesant    3560\n",
              "Williamsburg          3451\n",
              "Harlem                2487\n",
              "Bushwick              2404\n",
              "Upper West Side       1570\n",
              "                      ... \n",
              "Rossville                1\n",
              "Willowbrook              1\n",
              "Neponsit                 1\n",
              "Richmondtown             1\n",
              "New Dorp                 1\n",
              "Name: neighbourhood, Length: 219, dtype: int64"
            ]
          },
          "metadata": {
            "tags": []
          },
          "execution_count": 21
        }
      ]
    },
    {
      "cell_type": "code",
      "metadata": {
        "id": "PazikjEVJsdO",
        "outputId": "8aed9439-b62a-4df4-df9e-89f2e20af034",
        "colab": {
          "base_uri": "https://localhost:8080/",
          "height": 824
        }
      },
      "source": [
        "### Count how many neighbourhoods appear more than 200\n",
        "dfnh = airbnb.groupby(\"neighbourhood\").filter(lambda x: x[\"neighbourhood\"].count()>200)\n",
        "dfnh"
      ],
      "execution_count": 22,
      "outputs": [
        {
          "output_type": "execute_result",
          "data": {
            "text/html": [
              "<div>\n",
              "<style scoped>\n",
              "    .dataframe tbody tr th:only-of-type {\n",
              "        vertical-align: middle;\n",
              "    }\n",
              "\n",
              "    .dataframe tbody tr th {\n",
              "        vertical-align: top;\n",
              "    }\n",
              "\n",
              "    .dataframe thead th {\n",
              "        text-align: right;\n",
              "    }\n",
              "</style>\n",
              "<table border=\"1\" class=\"dataframe\">\n",
              "  <thead>\n",
              "    <tr style=\"text-align: right;\">\n",
              "      <th></th>\n",
              "      <th>id</th>\n",
              "      <th>name</th>\n",
              "      <th>host_id</th>\n",
              "      <th>host_name</th>\n",
              "      <th>neighbourhood_group</th>\n",
              "      <th>neighbourhood</th>\n",
              "      <th>latitude</th>\n",
              "      <th>longitude</th>\n",
              "      <th>room_type</th>\n",
              "      <th>price</th>\n",
              "      <th>minimum_nights</th>\n",
              "      <th>number_of_reviews</th>\n",
              "      <th>last_review</th>\n",
              "      <th>reviews_per_month</th>\n",
              "      <th>calculated_host_listings_count</th>\n",
              "      <th>availability_365</th>\n",
              "    </tr>\n",
              "  </thead>\n",
              "  <tbody>\n",
              "    <tr>\n",
              "      <th>1</th>\n",
              "      <td>2595</td>\n",
              "      <td>Skylit Midtown Castle</td>\n",
              "      <td>2845</td>\n",
              "      <td>Jennifer</td>\n",
              "      <td>Manhattan</td>\n",
              "      <td>Midtown</td>\n",
              "      <td>40.75362</td>\n",
              "      <td>-73.98377</td>\n",
              "      <td>Entire home/apt</td>\n",
              "      <td>225</td>\n",
              "      <td>1</td>\n",
              "      <td>45</td>\n",
              "      <td>2019-05-21</td>\n",
              "      <td>0.38</td>\n",
              "      <td>2</td>\n",
              "      <td>355</td>\n",
              "    </tr>\n",
              "    <tr>\n",
              "      <th>2</th>\n",
              "      <td>3647</td>\n",
              "      <td>THE VILLAGE OF HARLEM....NEW YORK !</td>\n",
              "      <td>4632</td>\n",
              "      <td>Elisabeth</td>\n",
              "      <td>Manhattan</td>\n",
              "      <td>Harlem</td>\n",
              "      <td>40.80902</td>\n",
              "      <td>-73.94190</td>\n",
              "      <td>Private room</td>\n",
              "      <td>150</td>\n",
              "      <td>3</td>\n",
              "      <td>0</td>\n",
              "      <td>NotReviewed</td>\n",
              "      <td>0.00</td>\n",
              "      <td>1</td>\n",
              "      <td>365</td>\n",
              "    </tr>\n",
              "    <tr>\n",
              "      <th>3</th>\n",
              "      <td>3831</td>\n",
              "      <td>Cozy Entire Floor of Brownstone</td>\n",
              "      <td>4869</td>\n",
              "      <td>LisaRoxanne</td>\n",
              "      <td>Brooklyn</td>\n",
              "      <td>Clinton Hill</td>\n",
              "      <td>40.68514</td>\n",
              "      <td>-73.95976</td>\n",
              "      <td>Entire home/apt</td>\n",
              "      <td>89</td>\n",
              "      <td>1</td>\n",
              "      <td>270</td>\n",
              "      <td>2019-07-05</td>\n",
              "      <td>4.64</td>\n",
              "      <td>1</td>\n",
              "      <td>194</td>\n",
              "    </tr>\n",
              "    <tr>\n",
              "      <th>4</th>\n",
              "      <td>5022</td>\n",
              "      <td>Entire Apt: Spacious Studio/Loft by central park</td>\n",
              "      <td>7192</td>\n",
              "      <td>Laura</td>\n",
              "      <td>Manhattan</td>\n",
              "      <td>East Harlem</td>\n",
              "      <td>40.79851</td>\n",
              "      <td>-73.94399</td>\n",
              "      <td>Entire home/apt</td>\n",
              "      <td>80</td>\n",
              "      <td>10</td>\n",
              "      <td>9</td>\n",
              "      <td>2018-11-19</td>\n",
              "      <td>0.10</td>\n",
              "      <td>1</td>\n",
              "      <td>0</td>\n",
              "    </tr>\n",
              "    <tr>\n",
              "      <th>5</th>\n",
              "      <td>5099</td>\n",
              "      <td>Large Cozy 1 BR Apartment In Midtown East</td>\n",
              "      <td>7322</td>\n",
              "      <td>Chris</td>\n",
              "      <td>Manhattan</td>\n",
              "      <td>Murray Hill</td>\n",
              "      <td>40.74767</td>\n",
              "      <td>-73.97500</td>\n",
              "      <td>Entire home/apt</td>\n",
              "      <td>200</td>\n",
              "      <td>3</td>\n",
              "      <td>74</td>\n",
              "      <td>2019-06-22</td>\n",
              "      <td>0.59</td>\n",
              "      <td>1</td>\n",
              "      <td>129</td>\n",
              "    </tr>\n",
              "    <tr>\n",
              "      <th>...</th>\n",
              "      <td>...</td>\n",
              "      <td>...</td>\n",
              "      <td>...</td>\n",
              "      <td>...</td>\n",
              "      <td>...</td>\n",
              "      <td>...</td>\n",
              "      <td>...</td>\n",
              "      <td>...</td>\n",
              "      <td>...</td>\n",
              "      <td>...</td>\n",
              "      <td>...</td>\n",
              "      <td>...</td>\n",
              "      <td>...</td>\n",
              "      <td>...</td>\n",
              "      <td>...</td>\n",
              "      <td>...</td>\n",
              "    </tr>\n",
              "    <tr>\n",
              "      <th>48890</th>\n",
              "      <td>36484665</td>\n",
              "      <td>Charming one bedroom - newly renovated rowhouse</td>\n",
              "      <td>8232441</td>\n",
              "      <td>Sabrina</td>\n",
              "      <td>Brooklyn</td>\n",
              "      <td>Bedford-Stuyvesant</td>\n",
              "      <td>40.67853</td>\n",
              "      <td>-73.94995</td>\n",
              "      <td>Private room</td>\n",
              "      <td>70</td>\n",
              "      <td>2</td>\n",
              "      <td>0</td>\n",
              "      <td>NotReviewed</td>\n",
              "      <td>0.00</td>\n",
              "      <td>2</td>\n",
              "      <td>9</td>\n",
              "    </tr>\n",
              "    <tr>\n",
              "      <th>48891</th>\n",
              "      <td>36485057</td>\n",
              "      <td>Affordable room in Bushwick/East Williamsburg</td>\n",
              "      <td>6570630</td>\n",
              "      <td>Marisol</td>\n",
              "      <td>Brooklyn</td>\n",
              "      <td>Bushwick</td>\n",
              "      <td>40.70184</td>\n",
              "      <td>-73.93317</td>\n",
              "      <td>Private room</td>\n",
              "      <td>40</td>\n",
              "      <td>4</td>\n",
              "      <td>0</td>\n",
              "      <td>NotReviewed</td>\n",
              "      <td>0.00</td>\n",
              "      <td>2</td>\n",
              "      <td>36</td>\n",
              "    </tr>\n",
              "    <tr>\n",
              "      <th>48892</th>\n",
              "      <td>36485431</td>\n",
              "      <td>Sunny Studio at Historical Neighborhood</td>\n",
              "      <td>23492952</td>\n",
              "      <td>Ilgar &amp; Aysel</td>\n",
              "      <td>Manhattan</td>\n",
              "      <td>Harlem</td>\n",
              "      <td>40.81475</td>\n",
              "      <td>-73.94867</td>\n",
              "      <td>Entire home/apt</td>\n",
              "      <td>115</td>\n",
              "      <td>10</td>\n",
              "      <td>0</td>\n",
              "      <td>NotReviewed</td>\n",
              "      <td>0.00</td>\n",
              "      <td>1</td>\n",
              "      <td>27</td>\n",
              "    </tr>\n",
              "    <tr>\n",
              "      <th>48893</th>\n",
              "      <td>36485609</td>\n",
              "      <td>43rd St. Time Square-cozy single bed</td>\n",
              "      <td>30985759</td>\n",
              "      <td>Taz</td>\n",
              "      <td>Manhattan</td>\n",
              "      <td>Hell's Kitchen</td>\n",
              "      <td>40.75751</td>\n",
              "      <td>-73.99112</td>\n",
              "      <td>Shared room</td>\n",
              "      <td>55</td>\n",
              "      <td>1</td>\n",
              "      <td>0</td>\n",
              "      <td>NotReviewed</td>\n",
              "      <td>0.00</td>\n",
              "      <td>6</td>\n",
              "      <td>2</td>\n",
              "    </tr>\n",
              "    <tr>\n",
              "      <th>48894</th>\n",
              "      <td>36487245</td>\n",
              "      <td>Trendy duplex in the very heart of Hell's Kitchen</td>\n",
              "      <td>68119814</td>\n",
              "      <td>Christophe</td>\n",
              "      <td>Manhattan</td>\n",
              "      <td>Hell's Kitchen</td>\n",
              "      <td>40.76404</td>\n",
              "      <td>-73.98933</td>\n",
              "      <td>Private room</td>\n",
              "      <td>90</td>\n",
              "      <td>7</td>\n",
              "      <td>0</td>\n",
              "      <td>NotReviewed</td>\n",
              "      <td>0.00</td>\n",
              "      <td>1</td>\n",
              "      <td>23</td>\n",
              "    </tr>\n",
              "  </tbody>\n",
              "</table>\n",
              "<p>36106 rows × 16 columns</p>\n",
              "</div>"
            ],
            "text/plain": [
              "             id  ... availability_365\n",
              "1          2595  ...              355\n",
              "2          3647  ...              365\n",
              "3          3831  ...              194\n",
              "4          5022  ...                0\n",
              "5          5099  ...              129\n",
              "...         ...  ...              ...\n",
              "48890  36484665  ...                9\n",
              "48891  36485057  ...               36\n",
              "48892  36485431  ...               27\n",
              "48893  36485609  ...                2\n",
              "48894  36487245  ...               23\n",
              "\n",
              "[36106 rows x 16 columns]"
            ]
          },
          "metadata": {
            "tags": []
          },
          "execution_count": 22
        }
      ]
    },
    {
      "cell_type": "code",
      "metadata": {
        "id": "mQQAtHXaLCkM",
        "outputId": "d64cc1f3-c264-4cfe-d115-3c1f3fe8f7dc",
        "colab": {
          "base_uri": "https://localhost:8080/",
          "height": 36
        }
      },
      "source": [
        "### Most data is covered \n",
        "len(dfnh[\"neighbourhood\"])"
      ],
      "execution_count": 23,
      "outputs": [
        {
          "output_type": "execute_result",
          "data": {
            "text/plain": [
              "36106"
            ]
          },
          "metadata": {
            "tags": []
          },
          "execution_count": 23
        }
      ]
    },
    {
      "cell_type": "code",
      "metadata": {
        "id": "TQtU5cCMLNGv",
        "outputId": "63ae5c6e-2654-4094-abe7-18ae887c9b21",
        "colab": {
          "base_uri": "https://localhost:8080/",
          "height": 36
        }
      },
      "source": [
        "### Count how many neighbourhoods appear only once\n",
        "dfnh = airbnb.groupby(\"neighbourhood\").filter(lambda x: x['neighbourhood'].count() == 1)\n",
        "len(dfnh[\"neighbourhood\"])"
      ],
      "execution_count": 24,
      "outputs": [
        {
          "output_type": "execute_result",
          "data": {
            "text/plain": [
              "5"
            ]
          },
          "metadata": {
            "tags": []
          },
          "execution_count": 24
        }
      ]
    },
    {
      "cell_type": "code",
      "metadata": {
        "id": "yNDOv8CDLahS",
        "outputId": "1c43676a-f16a-4e42-e242-dd3ce124feb1",
        "colab": {
          "base_uri": "https://localhost:8080/",
          "height": 129
        }
      },
      "source": [
        "###Lets look at neighbourhood groups\n",
        "airbnb['neighbourhood_group'].value_counts()"
      ],
      "execution_count": 25,
      "outputs": [
        {
          "output_type": "execute_result",
          "data": {
            "text/plain": [
              "Brooklyn         18581\n",
              "Manhattan        17270\n",
              "Queens            5413\n",
              "Bronx             1052\n",
              "Staten Island      353\n",
              "Name: neighbourhood_group, dtype: int64"
            ]
          },
          "metadata": {
            "tags": []
          },
          "execution_count": 25
        }
      ]
    },
    {
      "cell_type": "markdown",
      "metadata": {
        "id": "8I-BQMrkMIrC"
      },
      "source": [
        "There are five major neighbourhood groups in NYC with Manhattan and Brooklyn accounting for 85% of the listings"
      ]
    },
    {
      "cell_type": "code",
      "metadata": {
        "id": "Ry7sBtWzMNIq"
      },
      "source": [
        "### Lets see the average listing price by neighbourhood group\n",
        "ng_price = airbnb.groupby(\"neighbourhood_group\")[\"price\"].mean()"
      ],
      "execution_count": 26,
      "outputs": []
    },
    {
      "cell_type": "code",
      "metadata": {
        "id": "AiKQx6KNTZiC",
        "outputId": "486caef9-723e-423e-c093-9b5a5875e70a",
        "colab": {
          "base_uri": "https://localhost:8080/",
          "height": 148
        }
      },
      "source": [
        "### Manhattan is most expensive and Bronx is the least expensive place to live\n",
        "ng_price"
      ],
      "execution_count": 27,
      "outputs": [
        {
          "output_type": "execute_result",
          "data": {
            "text/plain": [
              "neighbourhood_group\n",
              "Bronx             73.796578\n",
              "Brooklyn          98.068134\n",
              "Manhattan        128.670990\n",
              "Queens            83.639941\n",
              "Staten Island     82.606232\n",
              "Name: price, dtype: float64"
            ]
          },
          "metadata": {
            "tags": []
          },
          "execution_count": 27
        }
      ]
    },
    {
      "cell_type": "code",
      "metadata": {
        "id": "Q-LERD6uUMTb",
        "outputId": "5dbe98c2-1c15-4605-d5ca-e90e9cc815a3",
        "colab": {
          "base_uri": "https://localhost:8080/",
          "height": 401
        }
      },
      "source": [
        "### Lets see the distribution of price and neighbourhood group\n",
        "plott=sns.catplot(x=\"neighbourhood_group\",y=\"price\",hue=\"room_type\", kind=\"strip\", data=airbnb)\n",
        "plott"
      ],
      "execution_count": 28,
      "outputs": [
        {
          "output_type": "execute_result",
          "data": {
            "text/plain": [
              "<seaborn.axisgrid.FacetGrid at 0x7f3e639da3c8>"
            ]
          },
          "metadata": {
            "tags": []
          },
          "execution_count": 28
        },
        {
          "output_type": "display_data",
          "data": {
            "image/png": "[encoded data removed]",
            "text/plain": [
              "<Figure size 489.1x360 with 1 Axes>"
            ]
          },
          "metadata": {
            "tags": []
          }
        }
      ]
    },
    {
      "cell_type": "markdown",
      "metadata": {
        "id": "_D2FU9LEXmYj"
      },
      "source": [
        "Here we can note that Brooklyn and Manhattan tend to have more listings with price>150. We also note that most listings above price>100 are entire home type followed by private room and shared room which is the cheapest."
      ]
    },
    {
      "cell_type": "code",
      "metadata": {
        "id": "CXdeUuhVUnQS",
        "outputId": "8ed0e48d-d750-4c5c-d1de-451c348f9db0",
        "colab": {
          "base_uri": "https://localhost:8080/",
          "height": 260
        }
      },
      "source": [
        "### Checking if there are duplicate host_ids and what is the maximum number of listings per host_id\n",
        "df = airbnb.groupby([\"host_id\"])\n",
        "df.size()                                                                "
      ],
      "execution_count": 29,
      "outputs": [
        {
          "output_type": "execute_result",
          "data": {
            "text/plain": [
              "host_id\n",
              "2438         1\n",
              "2571         1\n",
              "2787         6\n",
              "2845         2\n",
              "2868         1\n",
              "            ..\n",
              "274273284    1\n",
              "274298453    1\n",
              "274307600    1\n",
              "274311461    1\n",
              "274321313    1\n",
              "Length: 32978, dtype: int64"
            ]
          },
          "metadata": {
            "tags": []
          },
          "execution_count": 29
        }
      ]
    },
    {
      "cell_type": "code",
      "metadata": {
        "id": "N_NugUHCuKXv",
        "outputId": "c85f824c-1406-4289-c17e-9863e2cfa100",
        "colab": {
          "base_uri": "https://localhost:8080/",
          "height": 36
        }
      },
      "source": [
        "max(df.size())"
      ],
      "execution_count": 30,
      "outputs": [
        {
          "output_type": "execute_result",
          "data": {
            "text/plain": [
              "238"
            ]
          },
          "metadata": {
            "tags": []
          },
          "execution_count": 30
        }
      ]
    },
    {
      "cell_type": "code",
      "metadata": {
        "id": "qPbVMvEGYY_r",
        "outputId": "17ccdb35-dde5-40fa-c237-899755d343bc",
        "colab": {
          "base_uri": "https://localhost:8080/",
          "height": 129
        }
      },
      "source": [
        "### Here we can see that 32K host_ids are unique appearing only once whereas some host_ids appear as much as 238 times\n",
        "df.size().value_counts().head()"
      ],
      "execution_count": 31,
      "outputs": [
        {
          "output_type": "execute_result",
          "data": {
            "text/plain": [
              "1    28391\n",
              "2     2993\n",
              "3      844\n",
              "4      302\n",
              "5      151\n",
              "dtype: int64"
            ]
          },
          "metadata": {
            "tags": []
          },
          "execution_count": 31
        }
      ]
    },
    {
      "cell_type": "code",
      "metadata": {
        "id": "9saKqDv_Yvdl",
        "outputId": "0759a2c3-0c11-4c45-9d36-27cbb6dec352",
        "colab": {
          "base_uri": "https://localhost:8080/",
          "height": 129
        }
      },
      "source": [
        "df.size().value_counts().tail()"
      ],
      "execution_count": 32,
      "outputs": [
        {
          "output_type": "execute_result",
          "data": {
            "text/plain": [
              "45     1\n",
              "30     1\n",
              "238    1\n",
              "16     1\n",
              "87     1\n",
              "dtype: int64"
            ]
          },
          "metadata": {
            "tags": []
          },
          "execution_count": 32
        }
      ]
    },
    {
      "cell_type": "code",
      "metadata": {
        "id": "ZCY8RRZMbWO9",
        "outputId": "75d8be27-9837-4df6-eb2c-640a99492bff",
        "colab": {
          "base_uri": "https://localhost:8080/",
          "height": 36
        }
      },
      "source": [
        "### Finding the host_id with maximum listings\n",
        "host_id_counts = airbnb[\"host_id\"].value_counts()\n",
        "max_host = host_id_counts.idxmax()\n",
        "max_host"
      ],
      "execution_count": 33,
      "outputs": [
        {
          "output_type": "execute_result",
          "data": {
            "text/plain": [
              "219517861"
            ]
          },
          "metadata": {
            "tags": []
          },
          "execution_count": 33
        }
      ]
    },
    {
      "cell_type": "code",
      "metadata": {
        "id": "Yhb3i21Absns",
        "outputId": "11000848-08a9-423a-c4af-064280200d0d",
        "colab": {
          "base_uri": "https://localhost:8080/",
          "height": 892
        }
      },
      "source": [
        "### We see that Sonder(NYC) has the max number of listings\n",
        "airbnb[airbnb[\"host_id\"]==219517861]"
      ],
      "execution_count": 34,
      "outputs": [
        {
          "output_type": "execute_result",
          "data": {
            "text/html": [
              "<div>\n",
              "<style scoped>\n",
              "    .dataframe tbody tr th:only-of-type {\n",
              "        vertical-align: middle;\n",
              "    }\n",
              "\n",
              "    .dataframe tbody tr th {\n",
              "        vertical-align: top;\n",
              "    }\n",
              "\n",
              "    .dataframe thead th {\n",
              "        text-align: right;\n",
              "    }\n",
              "</style>\n",
              "<table border=\"1\" class=\"dataframe\">\n",
              "  <thead>\n",
              "    <tr style=\"text-align: right;\">\n",
              "      <th></th>\n",
              "      <th>id</th>\n",
              "      <th>name</th>\n",
              "      <th>host_id</th>\n",
              "      <th>host_name</th>\n",
              "      <th>neighbourhood_group</th>\n",
              "      <th>neighbourhood</th>\n",
              "      <th>latitude</th>\n",
              "      <th>longitude</th>\n",
              "      <th>room_type</th>\n",
              "      <th>price</th>\n",
              "      <th>minimum_nights</th>\n",
              "      <th>number_of_reviews</th>\n",
              "      <th>last_review</th>\n",
              "      <th>reviews_per_month</th>\n",
              "      <th>calculated_host_listings_count</th>\n",
              "      <th>availability_365</th>\n",
              "    </tr>\n",
              "  </thead>\n",
              "  <tbody>\n",
              "    <tr>\n",
              "      <th>38294</th>\n",
              "      <td>30181945</td>\n",
              "      <td>Sonder | 180 Water | Premier 1BR + Rooftop</td>\n",
              "      <td>219517861</td>\n",
              "      <td>Sonder (NYC)</td>\n",
              "      <td>Manhattan</td>\n",
              "      <td>Financial District</td>\n",
              "      <td>40.70771</td>\n",
              "      <td>-74.00641</td>\n",
              "      <td>Entire home/apt</td>\n",
              "      <td>229</td>\n",
              "      <td>29</td>\n",
              "      <td>1</td>\n",
              "      <td>2019-05-29</td>\n",
              "      <td>0.73</td>\n",
              "      <td>327</td>\n",
              "      <td>219</td>\n",
              "    </tr>\n",
              "    <tr>\n",
              "      <th>38588</th>\n",
              "      <td>30347708</td>\n",
              "      <td>Sonder | 180 Water | Charming 1BR + Rooftop</td>\n",
              "      <td>219517861</td>\n",
              "      <td>Sonder (NYC)</td>\n",
              "      <td>Manhattan</td>\n",
              "      <td>Financial District</td>\n",
              "      <td>40.70743</td>\n",
              "      <td>-74.00443</td>\n",
              "      <td>Entire home/apt</td>\n",
              "      <td>232</td>\n",
              "      <td>29</td>\n",
              "      <td>1</td>\n",
              "      <td>2019-05-21</td>\n",
              "      <td>0.60</td>\n",
              "      <td>327</td>\n",
              "      <td>159</td>\n",
              "    </tr>\n",
              "    <tr>\n",
              "      <th>39771</th>\n",
              "      <td>30937594</td>\n",
              "      <td>Sonder | The Nash | Brilliant Studio + Rooftop</td>\n",
              "      <td>219517861</td>\n",
              "      <td>Sonder (NYC)</td>\n",
              "      <td>Manhattan</td>\n",
              "      <td>Murray Hill</td>\n",
              "      <td>40.74845</td>\n",
              "      <td>-73.97446</td>\n",
              "      <td>Entire home/apt</td>\n",
              "      <td>245</td>\n",
              "      <td>2</td>\n",
              "      <td>4</td>\n",
              "      <td>2019-06-08</td>\n",
              "      <td>0.94</td>\n",
              "      <td>327</td>\n",
              "      <td>137</td>\n",
              "    </tr>\n",
              "    <tr>\n",
              "      <th>39772</th>\n",
              "      <td>30937595</td>\n",
              "      <td>Sonder | 11th Ave | Bright 1BR + Gym</td>\n",
              "      <td>219517861</td>\n",
              "      <td>Sonder (NYC)</td>\n",
              "      <td>Manhattan</td>\n",
              "      <td>Hell's Kitchen</td>\n",
              "      <td>40.76188</td>\n",
              "      <td>-73.99616</td>\n",
              "      <td>Entire home/apt</td>\n",
              "      <td>185</td>\n",
              "      <td>29</td>\n",
              "      <td>1</td>\n",
              "      <td>2019-06-20</td>\n",
              "      <td>1.00</td>\n",
              "      <td>327</td>\n",
              "      <td>281</td>\n",
              "    </tr>\n",
              "    <tr>\n",
              "      <th>39773</th>\n",
              "      <td>30937596</td>\n",
              "      <td>Sonder | 11th Ave | Contemporary 1BR + Gym</td>\n",
              "      <td>219517861</td>\n",
              "      <td>Sonder (NYC)</td>\n",
              "      <td>Manhattan</td>\n",
              "      <td>Hell's Kitchen</td>\n",
              "      <td>40.76037</td>\n",
              "      <td>-73.99744</td>\n",
              "      <td>Entire home/apt</td>\n",
              "      <td>185</td>\n",
              "      <td>29</td>\n",
              "      <td>1</td>\n",
              "      <td>2019-06-10</td>\n",
              "      <td>1.00</td>\n",
              "      <td>327</td>\n",
              "      <td>332</td>\n",
              "    </tr>\n",
              "    <tr>\n",
              "      <th>...</th>\n",
              "      <td>...</td>\n",
              "      <td>...</td>\n",
              "      <td>...</td>\n",
              "      <td>...</td>\n",
              "      <td>...</td>\n",
              "      <td>...</td>\n",
              "      <td>...</td>\n",
              "      <td>...</td>\n",
              "      <td>...</td>\n",
              "      <td>...</td>\n",
              "      <td>...</td>\n",
              "      <td>...</td>\n",
              "      <td>...</td>\n",
              "      <td>...</td>\n",
              "      <td>...</td>\n",
              "      <td>...</td>\n",
              "    </tr>\n",
              "    <tr>\n",
              "      <th>47686</th>\n",
              "      <td>35869234</td>\n",
              "      <td>Sonder | 116 John | Classic 1BR + Gym</td>\n",
              "      <td>219517861</td>\n",
              "      <td>Sonder (NYC)</td>\n",
              "      <td>Manhattan</td>\n",
              "      <td>Financial District</td>\n",
              "      <td>40.70852</td>\n",
              "      <td>-74.00510</td>\n",
              "      <td>Entire home/apt</td>\n",
              "      <td>198</td>\n",
              "      <td>29</td>\n",
              "      <td>0</td>\n",
              "      <td>NotReviewed</td>\n",
              "      <td>0.00</td>\n",
              "      <td>327</td>\n",
              "      <td>345</td>\n",
              "    </tr>\n",
              "    <tr>\n",
              "      <th>47687</th>\n",
              "      <td>35869466</td>\n",
              "      <td>Sonder | 116 John | Classic Studio + Gym</td>\n",
              "      <td>219517861</td>\n",
              "      <td>Sonder (NYC)</td>\n",
              "      <td>Manhattan</td>\n",
              "      <td>Financial District</td>\n",
              "      <td>40.70802</td>\n",
              "      <td>-74.00642</td>\n",
              "      <td>Entire home/apt</td>\n",
              "      <td>180</td>\n",
              "      <td>29</td>\n",
              "      <td>0</td>\n",
              "      <td>NotReviewed</td>\n",
              "      <td>0.00</td>\n",
              "      <td>327</td>\n",
              "      <td>338</td>\n",
              "    </tr>\n",
              "    <tr>\n",
              "      <th>47691</th>\n",
              "      <td>35871510</td>\n",
              "      <td>Sonder | 116 John | Vibrant Studio + Fitness Room</td>\n",
              "      <td>219517861</td>\n",
              "      <td>Sonder (NYC)</td>\n",
              "      <td>Manhattan</td>\n",
              "      <td>Financial District</td>\n",
              "      <td>40.70818</td>\n",
              "      <td>-74.00631</td>\n",
              "      <td>Entire home/apt</td>\n",
              "      <td>135</td>\n",
              "      <td>29</td>\n",
              "      <td>0</td>\n",
              "      <td>NotReviewed</td>\n",
              "      <td>0.00</td>\n",
              "      <td>327</td>\n",
              "      <td>339</td>\n",
              "    </tr>\n",
              "    <tr>\n",
              "      <th>47692</th>\n",
              "      <td>35871511</td>\n",
              "      <td>Sonder | 116 John | Vibrant 1BR + Fitness Room</td>\n",
              "      <td>219517861</td>\n",
              "      <td>Sonder (NYC)</td>\n",
              "      <td>Manhattan</td>\n",
              "      <td>Financial District</td>\n",
              "      <td>40.70691</td>\n",
              "      <td>-74.00682</td>\n",
              "      <td>Entire home/apt</td>\n",
              "      <td>165</td>\n",
              "      <td>29</td>\n",
              "      <td>0</td>\n",
              "      <td>NotReviewed</td>\n",
              "      <td>0.00</td>\n",
              "      <td>327</td>\n",
              "      <td>342</td>\n",
              "    </tr>\n",
              "    <tr>\n",
              "      <th>47693</th>\n",
              "      <td>35871515</td>\n",
              "      <td>Sonder | 116 John | Stunning 1BR + Rooftop</td>\n",
              "      <td>219517861</td>\n",
              "      <td>Sonder (NYC)</td>\n",
              "      <td>Manhattan</td>\n",
              "      <td>Financial District</td>\n",
              "      <td>40.70772</td>\n",
              "      <td>-74.00673</td>\n",
              "      <td>Entire home/apt</td>\n",
              "      <td>165</td>\n",
              "      <td>29</td>\n",
              "      <td>0</td>\n",
              "      <td>NotReviewed</td>\n",
              "      <td>0.00</td>\n",
              "      <td>327</td>\n",
              "      <td>347</td>\n",
              "    </tr>\n",
              "  </tbody>\n",
              "</table>\n",
              "<p>238 rows × 16 columns</p>\n",
              "</div>"
            ],
            "text/plain": [
              "             id  ... availability_365\n",
              "38294  30181945  ...              219\n",
              "38588  30347708  ...              159\n",
              "39771  30937594  ...              137\n",
              "39772  30937595  ...              281\n",
              "39773  30937596  ...              332\n",
              "...         ...  ...              ...\n",
              "47686  35869234  ...              345\n",
              "47687  35869466  ...              338\n",
              "47691  35871510  ...              339\n",
              "47692  35871511  ...              342\n",
              "47693  35871515  ...              347\n",
              "\n",
              "[238 rows x 16 columns]"
            ]
          },
          "metadata": {
            "tags": []
          },
          "execution_count": 34
        }
      ]
    },
    {
      "cell_type": "markdown",
      "metadata": {
        "id": "a2l7eSTNcVx_"
      },
      "source": [
        "Listing id and Host name are not useful for our analysis so I will drop them"
      ]
    },
    {
      "cell_type": "code",
      "metadata": {
        "id": "PVH6AEAGcLgV"
      },
      "source": [
        "airbnb = airbnb.drop(columns = [\"id\",\"host_name\"])"
      ],
      "execution_count": 35,
      "outputs": []
    },
    {
      "cell_type": "code",
      "metadata": {
        "id": "dryZNDxVcbdf"
      },
      "source": [
        "### Let's Analyse the listing name column\n",
        "airbnb[\"name_length\"]=airbnb['name'].map(str).apply(len)"
      ],
      "execution_count": 36,
      "outputs": []
    },
    {
      "cell_type": "code",
      "metadata": {
        "id": "gvhqaB80dW6L",
        "outputId": "12da2f4e-9997-45b4-abe6-c21ec65a9b54",
        "colab": {
          "base_uri": "https://localhost:8080/",
          "height": 92
        }
      },
      "source": [
        "###Max and Min name length\n",
        "print(airbnb[\"name_length\"].max())\n",
        "print(airbnb[\"name_length\"].min())\n",
        "print(airbnb[\"name_length\"].idxmax())\n",
        "print(airbnb[\"name_length\"].idxmin())"
      ],
      "execution_count": 37,
      "outputs": [
        {
          "output_type": "stream",
          "text": [
            "179\n",
            "1\n",
            "25832\n",
            "4033\n"
          ],
          "name": "stdout"
        }
      ]
    },
    {
      "cell_type": "code",
      "metadata": {
        "id": "YSXGe6QDdsb7",
        "outputId": "a385626d-b1dc-4bf5-c869-6a03710c3a8a",
        "colab": {
          "base_uri": "https://localhost:8080/",
          "height": 54
        }
      },
      "source": [
        "### Max name\n",
        "airbnb.at[25832,'name']"
      ],
      "execution_count": 38,
      "outputs": [
        {
          "output_type": "execute_result",
          "data": {
            "application/vnd.google.colaboratory.intrinsic+json": {
              "type": "string"
            },
            "text/plain": [
              "'The printing studio bedroom with garden in Bedstuy  !!Brooklyn. Historic neighborhood close to everything ! Full kitchen bathroom BBQ and porch at your disposal. Learn to print !!'"
            ]
          },
          "metadata": {
            "tags": []
          },
          "execution_count": 38
        }
      ]
    },
    {
      "cell_type": "code",
      "metadata": {
        "id": "rGq6YvnKd4kx",
        "outputId": "d3d137b5-ded4-4f3b-c486-3d5a0f8f9951",
        "colab": {
          "base_uri": "https://localhost:8080/",
          "height": 36
        }
      },
      "source": [
        "airbnb.at[4022,'name']"
      ],
      "execution_count": 39,
      "outputs": [
        {
          "output_type": "execute_result",
          "data": {
            "application/vnd.google.colaboratory.intrinsic+json": {
              "type": "string"
            },
            "text/plain": [
              "'Gorgeous Apartment in Battery Park!'"
            ]
          },
          "metadata": {
            "tags": []
          },
          "execution_count": 39
        }
      ]
    },
    {
      "cell_type": "code",
      "metadata": {
        "id": "Y_324fpMeYWz",
        "outputId": "1920fe83-be0c-490d-8d89-cbdac07a69a5",
        "colab": {
          "base_uri": "https://localhost:8080/",
          "height": 36
        }
      },
      "source": [
        "airbnb.at[4033,'name']"
      ],
      "execution_count": 40,
      "outputs": [
        {
          "output_type": "execute_result",
          "data": {
            "application/vnd.google.colaboratory.intrinsic+json": {
              "type": "string"
            },
            "text/plain": [
              "'/'"
            ]
          },
          "metadata": {
            "tags": []
          },
          "execution_count": 40
        }
      ]
    },
    {
      "cell_type": "code",
      "metadata": {
        "id": "HsqMRyhpefSq",
        "outputId": "4d73367f-4fe7-4727-e632-140147d202d8",
        "colab": {
          "base_uri": "https://localhost:8080/",
          "height": 343
        }
      },
      "source": [
        "### Let's figure if name length has an impact on how much it is noticed.\n",
        "###We can assume higher number of reviews mean more people lived there \n",
        "###and hence more people \"noticed\" the listing\n",
        "airbnb.plot.scatter(x='name_length', y=\"number_of_reviews\")"
      ],
      "execution_count": 41,
      "outputs": [
        {
          "output_type": "stream",
          "text": [
            "*c* argument looks like a single numeric RGB or RGBA sequence, which should be avoided as value-mapping will have precedence in case its length matches with *x* & *y*.  Please use the *color* keyword-argument or provide a 2-D array with a single row if you intend to specify the same RGB or RGBA value for all points.\n"
          ],
          "name": "stderr"
        },
        {
          "output_type": "execute_result",
          "data": {
            "text/plain": [
              "<matplotlib.axes._subplots.AxesSubplot at 0x7f3e60e48550>"
            ]
          },
          "metadata": {
            "tags": []
          },
          "execution_count": 41
        },
        {
          "output_type": "display_data",
          "data": {
            "image/png": "[encoded data removed]",
            "text/plain": [
              "<Figure size 432x288 with 1 Axes>"
            ]
          },
          "metadata": {
            "tags": []
          }
        }
      ]
    },
    {
      "cell_type": "code",
      "metadata": {
        "id": "ixm1K3gG5MZe",
        "outputId": "823e1c8e-d75e-4800-a40b-d52b4b6fd8fd",
        "colab": {
          "base_uri": "https://localhost:8080/",
          "height": 36
        }
      },
      "source": [
        "airbnb[\"name_length\"].corr(airbnb[\"number_of_reviews\"]) "
      ],
      "execution_count": 42,
      "outputs": [
        {
          "output_type": "execute_result",
          "data": {
            "text/plain": [
              "-0.004684119349132562"
            ]
          },
          "metadata": {
            "tags": []
          },
          "execution_count": 42
        }
      ]
    },
    {
      "cell_type": "code",
      "metadata": {
        "id": "87oF0ElR5SsJ",
        "outputId": "29497dc1-50e3-4cea-d454-80d4d534e9cc",
        "colab": {
          "base_uri": "https://localhost:8080/",
          "height": 343
        }
      },
      "source": [
        "###There is hardly any relationship there. Lets try between price and name length \n",
        "airbnb[airbnb[\"name_length\"]<50].plot.scatter(x=\"name_length\", y =\"price\")"
      ],
      "execution_count": 43,
      "outputs": [
        {
          "output_type": "stream",
          "text": [
            "*c* argument looks like a single numeric RGB or RGBA sequence, which should be avoided as value-mapping will have precedence in case its length matches with *x* & *y*.  Please use the *color* keyword-argument or provide a 2-D array with a single row if you intend to specify the same RGB or RGBA value for all points.\n"
          ],
          "name": "stderr"
        },
        {
          "output_type": "execute_result",
          "data": {
            "text/plain": [
              "<matplotlib.axes._subplots.AxesSubplot at 0x7f3e60e40dd8>"
            ]
          },
          "metadata": {
            "tags": []
          },
          "execution_count": 43
        },
        {
          "output_type": "display_data",
          "data": {
            "image/png": "[encoded data removed]",
            "text/plain": [
              "<Figure size 432x288 with 1 Axes>"
            ]
          },
          "metadata": {
            "tags": []
          }
        }
      ]
    },
    {
      "cell_type": "code",
      "metadata": {
        "id": "pA2Rqtpr5q6i",
        "outputId": "29b601dd-aab4-4099-84b3-1d33d7b85179",
        "colab": {
          "base_uri": "https://localhost:8080/",
          "height": 36
        }
      },
      "source": [
        "airbnb[\"name_length\"].corr(airbnb[\"price\"])"
      ],
      "execution_count": 44,
      "outputs": [
        {
          "output_type": "execute_result",
          "data": {
            "text/plain": [
              "0.056295731411209415"
            ]
          },
          "metadata": {
            "tags": []
          },
          "execution_count": 44
        }
      ]
    },
    {
      "cell_type": "code",
      "metadata": {
        "id": "-3Nq7MJW7SOi",
        "outputId": "3c1aff21-8ea7-4e8f-9a59-8aad3f768e42",
        "colab": {
          "base_uri": "https://localhost:8080/",
          "height": 287
        }
      },
      "source": [
        "airbnb.name_length.hist()"
      ],
      "execution_count": 45,
      "outputs": [
        {
          "output_type": "execute_result",
          "data": {
            "text/plain": [
              "<matplotlib.axes._subplots.AxesSubplot at 0x7f3e610bc940>"
            ]
          },
          "metadata": {
            "tags": []
          },
          "execution_count": 45
        },
        {
          "output_type": "display_data",
          "data": {
            "image/png": "[encoded data removed]",
            "text/plain": [
              "<Figure size 432x288 with 1 Axes>"
            ]
          },
          "metadata": {
            "tags": []
          }
        }
      ]
    },
    {
      "cell_type": "code",
      "metadata": {
        "id": "7UZePEtK7Y1v",
        "outputId": "82f20a3e-24b6-4b57-961d-cfc55a70c04d",
        "colab": {
          "base_uri": "https://localhost:8080/",
          "height": 92
        }
      },
      "source": [
        "### Lets look at room_type variable\n",
        "airbnb['room_type'].value_counts()\n",
        "### Most listings are either Entire home or Private room"
      ],
      "execution_count": 46,
      "outputs": [
        {
          "output_type": "execute_result",
          "data": {
            "text/plain": [
              "Private room       21753\n",
              "Entire home/apt    19790\n",
              "Shared room         1126\n",
              "Name: room_type, dtype: int64"
            ]
          },
          "metadata": {
            "tags": []
          },
          "execution_count": 46
        }
      ]
    },
    {
      "cell_type": "code",
      "metadata": {
        "id": "j7U7uv5X7dpJ",
        "outputId": "74ec902c-8967-453e-88e9-62df268b361d",
        "colab": {
          "base_uri": "https://localhost:8080/",
          "height": 110
        }
      },
      "source": [
        "### Average price per room_type\n",
        "rt_price = airbnb.groupby(\"room_type\")[\"price\"].mean()\n",
        "rt_price"
      ],
      "execution_count": 47,
      "outputs": [
        {
          "output_type": "execute_result",
          "data": {
            "text/plain": [
              "room_type\n",
              "Entire home/apt    144.977211\n",
              "Private room        76.802832\n",
              "Shared room         56.925400\n",
              "Name: price, dtype: float64"
            ]
          },
          "metadata": {
            "tags": []
          },
          "execution_count": 47
        }
      ]
    },
    {
      "cell_type": "code",
      "metadata": {
        "id": "JuRI_FRx7szA",
        "outputId": "5437af1e-0bf0-467b-ac32-37f0ef2344f3",
        "colab": {
          "base_uri": "https://localhost:8080/",
          "height": 185
        }
      },
      "source": [
        "### Analysing minimum nights\n",
        "airbnb[\"minimum_nights\"].describe()"
      ],
      "execution_count": 48,
      "outputs": [
        {
          "output_type": "execute_result",
          "data": {
            "text/plain": [
              "count    42669.000000\n",
              "mean         6.856359\n",
              "std         19.981924\n",
              "min          1.000000\n",
              "25%          1.000000\n",
              "50%          2.000000\n",
              "75%          5.000000\n",
              "max       1250.000000\n",
              "Name: minimum_nights, dtype: float64"
            ]
          },
          "metadata": {
            "tags": []
          },
          "execution_count": 48
        }
      ]
    },
    {
      "cell_type": "markdown",
      "metadata": {
        "id": "I5N43GII8ykG"
      },
      "source": [
        "Again, range is between 1 night to 1250 nights. Quite odd."
      ]
    },
    {
      "cell_type": "code",
      "metadata": {
        "id": "NC5CQ18c8m2J",
        "outputId": "2da28cf3-d8e5-49b3-fd34-3a7694f07db5",
        "colab": {
          "base_uri": "https://localhost:8080/",
          "height": 287
        }
      },
      "source": [
        "### Analysing minimum nights\n",
        "### We see most values are between 1 to 100\n",
        "hist_mn=airbnb[\"minimum_nights\"].hist()\n",
        "hist_mn"
      ],
      "execution_count": 49,
      "outputs": [
        {
          "output_type": "execute_result",
          "data": {
            "text/plain": [
              "<matplotlib.axes._subplots.AxesSubplot at 0x7f3e60fd4e10>"
            ]
          },
          "metadata": {
            "tags": []
          },
          "execution_count": 49
        },
        {
          "output_type": "display_data",
          "data": {
            "image/png": "[encoded data removed]",
            "text/plain": [
              "<Figure size 432x288 with 1 Axes>"
            ]
          },
          "metadata": {
            "tags": []
          }
        }
      ]
    },
    {
      "cell_type": "code",
      "metadata": {
        "id": "676csdpN874Y",
        "outputId": "b534930a-f041-42eb-90cf-24b194479700",
        "colab": {
          "base_uri": "https://localhost:8080/",
          "height": 290
        }
      },
      "source": [
        "### Closer look\n",
        "hist_mn1=airbnb[\"minimum_nights\"][airbnb[\"minimum_nights\"]<10].hist()\n",
        "hist_mn1"
      ],
      "execution_count": 50,
      "outputs": [
        {
          "output_type": "execute_result",
          "data": {
            "text/plain": [
              "<matplotlib.axes._subplots.AxesSubplot at 0x7f3e61084eb8>"
            ]
          },
          "metadata": {
            "tags": []
          },
          "execution_count": 50
        },
        {
          "output_type": "display_data",
          "data": {
            "image/png": "[encoded data removed]",
            "text/plain": [
              "<Figure size 432x288 with 1 Axes>"
            ]
          },
          "metadata": {
            "tags": []
          }
        }
      ]
    },
    {
      "cell_type": "code",
      "metadata": {
        "id": "28bzBhn39DsM",
        "outputId": "17b9ddca-b77e-4f09-80ea-0509289af683",
        "colab": {
          "base_uri": "https://localhost:8080/",
          "height": 241
        }
      },
      "source": [
        "airbnb[\"minimum_nights\"][airbnb['minimum_nights']>30]"
      ],
      "execution_count": 51,
      "outputs": [
        {
          "output_type": "execute_result",
          "data": {
            "text/plain": [
              "6         45\n",
              "14        90\n",
              "36        60\n",
              "81        31\n",
              "106       90\n",
              "        ... \n",
              "48312     90\n",
              "48325     60\n",
              "48368     60\n",
              "48446    365\n",
              "48752     32\n",
              "Name: minimum_nights, Length: 628, dtype: int64"
            ]
          },
          "metadata": {
            "tags": []
          },
          "execution_count": 51
        }
      ]
    },
    {
      "cell_type": "code",
      "metadata": {
        "id": "tLZZ_001-bHS"
      },
      "source": [
        "### We replace all records with min nights > 30 by 30\n",
        "airbnb.loc[(airbnb.minimum_nights >30),\"minimum_nights\"]=30"
      ],
      "execution_count": 52,
      "outputs": []
    },
    {
      "cell_type": "code",
      "metadata": {
        "id": "Mq9lJa_O--sQ",
        "outputId": "298ed79c-0164-4051-9593-15dc1b083ddf",
        "colab": {
          "base_uri": "https://localhost:8080/",
          "height": 287
        }
      },
      "source": [
        "hist_mn2=airbnb[\"minimum_nights\"][airbnb[\"minimum_nights\"]<30].hist()\n",
        "hist_mn2"
      ],
      "execution_count": 53,
      "outputs": [
        {
          "output_type": "execute_result",
          "data": {
            "text/plain": [
              "<matplotlib.axes._subplots.AxesSubplot at 0x7f3e60eb7780>"
            ]
          },
          "metadata": {
            "tags": []
          },
          "execution_count": 53
        },
        {
          "output_type": "display_data",
          "data": {
            "image/png": "[encoded data removed]",
            "text/plain": [
              "<Figure size 432x288 with 1 Axes>"
            ]
          },
          "metadata": {
            "tags": []
          }
        }
      ]
    },
    {
      "cell_type": "code",
      "metadata": {
        "id": "EcUmoK85_UYJ",
        "outputId": "1a16c7b8-8ab7-4b90-c058-2178939bbfcc",
        "colab": {
          "base_uri": "https://localhost:8080/",
          "height": 36
        }
      },
      "source": [
        "### Does minimum_nights have impact on price?\n",
        "airbnb[\"minimum_nights\"].corr(airbnb[\"price\"])"
      ],
      "execution_count": 54,
      "outputs": [
        {
          "output_type": "execute_result",
          "data": {
            "text/plain": [
              "0.059554361719124246"
            ]
          },
          "metadata": {
            "tags": []
          },
          "execution_count": 54
        }
      ]
    },
    {
      "cell_type": "code",
      "metadata": {
        "id": "e1yyvTMc_sQq",
        "outputId": "77b854a6-81b4-4de1-860c-8c951c21ff50",
        "colab": {
          "base_uri": "https://localhost:8080/",
          "height": 185
        }
      },
      "source": [
        "###now lets analyse availability_365 column\n",
        "airbnb[\"availability_365\"].describe()"
      ],
      "execution_count": 55,
      "outputs": [
        {
          "output_type": "execute_result",
          "data": {
            "text/plain": [
              "count    42669.000000\n",
              "mean       107.622747\n",
              "std        129.731981\n",
              "min          0.000000\n",
              "25%          0.000000\n",
              "50%         37.000000\n",
              "75%        211.000000\n",
              "max        365.000000\n",
              "Name: availability_365, dtype: float64"
            ]
          },
          "metadata": {
            "tags": []
          },
          "execution_count": 55
        }
      ]
    },
    {
      "cell_type": "code",
      "metadata": {
        "id": "ZSv88R3D_0Nk",
        "outputId": "41f4ec83-fedd-4b9e-b085-c14d7deccb7d",
        "colab": {
          "base_uri": "https://localhost:8080/",
          "height": 384
        }
      },
      "source": [
        "sns.displot(airbnb['availability_365'])"
      ],
      "execution_count": 56,
      "outputs": [
        {
          "output_type": "execute_result",
          "data": {
            "text/plain": [
              "<seaborn.axisgrid.FacetGrid at 0x7f3e5f5ed160>"
            ]
          },
          "metadata": {
            "tags": []
          },
          "execution_count": 56
        },
        {
          "output_type": "display_data",
          "data": {
            "image/png": "[encoded data removed]",
            "text/plain": [
              "<Figure size 360x360 with 1 Axes>"
            ]
          },
          "metadata": {
            "tags": []
          }
        }
      ]
    },
    {
      "cell_type": "code",
      "metadata": {
        "id": "FtYOsP89API4"
      },
      "source": [
        "### After analysis, We have decided to drop these columns as they will not be useful in prediction\n",
        "airbnb.drop([\"name\",'last_review',\"latitude\",'longitude'], axis=1, inplace=True)"
      ],
      "execution_count": 57,
      "outputs": []
    },
    {
      "cell_type": "code",
      "metadata": {
        "id": "Aj55LRLLB74R"
      },
      "source": [
        "### Dropping host_id\n",
        "airbnb.drop([\"host_id\"], axis=1, inplace=True)"
      ],
      "execution_count": 58,
      "outputs": []
    },
    {
      "cell_type": "code",
      "metadata": {
        "id": "Zrx8OmPtCBgv",
        "outputId": "58c65871-f402-4d7b-9249-45b5d80e3562",
        "colab": {
          "base_uri": "https://localhost:8080/",
          "height": 722
        }
      },
      "source": [
        "### Plotting correlation matrix \n",
        "corr = airbnb.corr(method='pearson')\n",
        "plt.figure(figsize=(15,8))\n",
        "sns.heatmap(corr, annot=True)\n",
        "airbnb.columns"
      ],
      "execution_count": 59,
      "outputs": [
        {
          "output_type": "execute_result",
          "data": {
            "text/plain": [
              "Index(['neighbourhood_group', 'neighbourhood', 'room_type', 'price',\n",
              "       'minimum_nights', 'number_of_reviews', 'reviews_per_month',\n",
              "       'calculated_host_listings_count', 'availability_365', 'name_length'],\n",
              "      dtype='object')"
            ]
          },
          "metadata": {
            "tags": []
          },
          "execution_count": 59
        },
        {
          "output_type": "display_data",
          "data": {
            "image/png": "[encoded data removed]",
            "text/plain": [
              "<Figure size 1080x576 with 2 Axes>"
            ]
          },
          "metadata": {
            "tags": []
          }
        }
      ]
    },
    {
      "cell_type": "code",
      "metadata": {
        "id": "ejAPwQ5gFCcK",
        "outputId": "f3962848-f6b4-4acc-d573-f18a20c38a4e",
        "colab": {
          "base_uri": "https://localhost:8080/",
          "height": 222
        }
      },
      "source": [
        "### Lets check out data one more time before beginning prediction.\n",
        "airbnb.dtypes"
      ],
      "execution_count": 60,
      "outputs": [
        {
          "output_type": "execute_result",
          "data": {
            "text/plain": [
              "neighbourhood_group                object\n",
              "neighbourhood                      object\n",
              "room_type                          object\n",
              "price                               int64\n",
              "minimum_nights                      int64\n",
              "number_of_reviews                   int64\n",
              "reviews_per_month                 float64\n",
              "calculated_host_listings_count      int64\n",
              "availability_365                    int64\n",
              "name_length                         int64\n",
              "dtype: object"
            ]
          },
          "metadata": {
            "tags": []
          },
          "execution_count": 60
        }
      ]
    },
    {
      "cell_type": "markdown",
      "metadata": {
        "id": "Hq8ipJa8FQ1W"
      },
      "source": [
        "## Let us start with basic Linear Regression to create a base line model"
      ]
    },
    {
      "cell_type": "markdown",
      "metadata": {
        "id": "zSwV8u5EFbSZ"
      },
      "source": [
        "Making dummies for neighbourhood group and room_type"
      ]
    },
    {
      "cell_type": "code",
      "metadata": {
        "id": "feAzlQ76FPTW"
      },
      "source": [
        "## without neighbourhood column\n",
        "\n",
        "dataset_onehot1 = pd.get_dummies(airbnb, columns=['neighbourhood_group',\"room_type\"], prefix = ['ng',\"rt\"],drop_first=True)\n",
        "dataset_onehot1.drop([\"neighbourhood\"], axis=1, inplace=True)"
      ],
      "execution_count": 61,
      "outputs": []
    },
    {
      "cell_type": "code",
      "metadata": {
        "id": "9g2aDEbuF1M9",
        "outputId": "ca8c1c21-79e9-45f4-87f5-d36188373cfa",
        "colab": {
          "base_uri": "https://localhost:8080/",
          "height": 36
        }
      },
      "source": [
        "### Checking dataframe shape\n",
        "dataset_onehot1.shape"
      ],
      "execution_count": 62,
      "outputs": [
        {
          "output_type": "execute_result",
          "data": {
            "text/plain": [
              "(42669, 13)"
            ]
          },
          "metadata": {
            "tags": []
          },
          "execution_count": 62
        }
      ]
    },
    {
      "cell_type": "code",
      "metadata": {
        "id": "MC1NfDppF3sb"
      },
      "source": [
        "X1= dataset_onehot1.loc[:, dataset_onehot1.columns != 'price']"
      ],
      "execution_count": 63,
      "outputs": []
    },
    {
      "cell_type": "code",
      "metadata": {
        "id": "LwLfn6TBF6Su"
      },
      "source": [
        "Y1 = dataset_onehot1[\"price\"]"
      ],
      "execution_count": 64,
      "outputs": []
    },
    {
      "cell_type": "markdown",
      "metadata": {
        "id": "ZRkWBPydF-CZ"
      },
      "source": [
        "Splitting Data into Training and testing data "
      ]
    },
    {
      "cell_type": "code",
      "metadata": {
        "id": "5-FO4MEWF8kO"
      },
      "source": [
        "x_train1, x_test1, y_train1, y_test1 = train_test_split(X1, Y1, test_size=0.20, random_state=42)"
      ],
      "execution_count": 65,
      "outputs": []
    },
    {
      "cell_type": "code",
      "metadata": {
        "id": "5QxcfX-uGNZV"
      },
      "source": [
        "### Fitting Linear regression\n",
        "reg1 = LinearRegression().fit(x_train1, y_train1)"
      ],
      "execution_count": 66,
      "outputs": []
    },
    {
      "cell_type": "code",
      "metadata": {
        "id": "8hdYdvMYGQHW",
        "outputId": "75dedea2-7ddf-4159-9e26-ff4e5ffc7ba5",
        "colab": {
          "base_uri": "https://localhost:8080/",
          "height": 36
        }
      },
      "source": [
        "### R squared value\n",
        "reg1.score(x_train1, y_train1)"
      ],
      "execution_count": 67,
      "outputs": [
        {
          "output_type": "execute_result",
          "data": {
            "text/plain": [
              "0.5033306680968379"
            ]
          },
          "metadata": {
            "tags": []
          },
          "execution_count": 67
        }
      ]
    },
    {
      "cell_type": "code",
      "metadata": {
        "id": "6iODvi46GTYy",
        "outputId": "5905401b-df20-4a11-f826-3f5373ab52e4",
        "colab": {
          "base_uri": "https://localhost:8080/",
          "height": 73
        }
      },
      "source": [
        "### Coefficients\n",
        "reg1.coef_"
      ],
      "execution_count": 68,
      "outputs": [
        {
          "output_type": "execute_result",
          "data": {
            "text/plain": [
              "array([-8.09520215e-01, -9.08803421e-03, -1.61641699e+00,  1.42434665e-01,\n",
              "        4.67863558e-02,  1.98696542e-01,  1.98040033e+01,  4.41704660e+01,\n",
              "        9.69056189e+00,  2.05907986e-01, -6.56442414e+01, -8.90902274e+01])"
            ]
          },
          "metadata": {
            "tags": []
          },
          "execution_count": 68
        }
      ]
    },
    {
      "cell_type": "code",
      "metadata": {
        "id": "VW8CIlqZGXco"
      },
      "source": [
        "### Predicting \n",
        "y_pred1 = reg1.predict(x_test1)"
      ],
      "execution_count": 69,
      "outputs": []
    },
    {
      "cell_type": "code",
      "metadata": {
        "id": "FbOFgBZ3GkGj",
        "outputId": "c9dbe717-081f-45a8-9c9a-91788dd21e6b",
        "colab": {
          "base_uri": "https://localhost:8080/",
          "height": 399
        }
      },
      "source": [
        "Coeff1 = pd.DataFrame(columns=[\"Variable\",\"Coefficient\"])\n",
        "Coeff1[\"Variable\"]=x_train1.columns\n",
        "Coeff1[\"Coefficient\"]=reg1.coef_\n",
        "Coeff1.sort_values(\"Coefficient\")"
      ],
      "execution_count": 70,
      "outputs": [
        {
          "output_type": "execute_result",
          "data": {
            "text/html": [
              "<div>\n",
              "<style scoped>\n",
              "    .dataframe tbody tr th:only-of-type {\n",
              "        vertical-align: middle;\n",
              "    }\n",
              "\n",
              "    .dataframe tbody tr th {\n",
              "        vertical-align: top;\n",
              "    }\n",
              "\n",
              "    .dataframe thead th {\n",
              "        text-align: right;\n",
              "    }\n",
              "</style>\n",
              "<table border=\"1\" class=\"dataframe\">\n",
              "  <thead>\n",
              "    <tr style=\"text-align: right;\">\n",
              "      <th></th>\n",
              "      <th>Variable</th>\n",
              "      <th>Coefficient</th>\n",
              "    </tr>\n",
              "  </thead>\n",
              "  <tbody>\n",
              "    <tr>\n",
              "      <th>11</th>\n",
              "      <td>rt_Shared room</td>\n",
              "      <td>-89.090227</td>\n",
              "    </tr>\n",
              "    <tr>\n",
              "      <th>10</th>\n",
              "      <td>rt_Private room</td>\n",
              "      <td>-65.644241</td>\n",
              "    </tr>\n",
              "    <tr>\n",
              "      <th>2</th>\n",
              "      <td>reviews_per_month</td>\n",
              "      <td>-1.616417</td>\n",
              "    </tr>\n",
              "    <tr>\n",
              "      <th>0</th>\n",
              "      <td>minimum_nights</td>\n",
              "      <td>-0.809520</td>\n",
              "    </tr>\n",
              "    <tr>\n",
              "      <th>1</th>\n",
              "      <td>number_of_reviews</td>\n",
              "      <td>-0.009088</td>\n",
              "    </tr>\n",
              "    <tr>\n",
              "      <th>4</th>\n",
              "      <td>availability_365</td>\n",
              "      <td>0.046786</td>\n",
              "    </tr>\n",
              "    <tr>\n",
              "      <th>3</th>\n",
              "      <td>calculated_host_listings_count</td>\n",
              "      <td>0.142435</td>\n",
              "    </tr>\n",
              "    <tr>\n",
              "      <th>5</th>\n",
              "      <td>name_length</td>\n",
              "      <td>0.198697</td>\n",
              "    </tr>\n",
              "    <tr>\n",
              "      <th>9</th>\n",
              "      <td>ng_Staten Island</td>\n",
              "      <td>0.205908</td>\n",
              "    </tr>\n",
              "    <tr>\n",
              "      <th>8</th>\n",
              "      <td>ng_Queens</td>\n",
              "      <td>9.690562</td>\n",
              "    </tr>\n",
              "    <tr>\n",
              "      <th>6</th>\n",
              "      <td>ng_Brooklyn</td>\n",
              "      <td>19.804003</td>\n",
              "    </tr>\n",
              "    <tr>\n",
              "      <th>7</th>\n",
              "      <td>ng_Manhattan</td>\n",
              "      <td>44.170466</td>\n",
              "    </tr>\n",
              "  </tbody>\n",
              "</table>\n",
              "</div>"
            ],
            "text/plain": [
              "                          Variable  Coefficient\n",
              "11                  rt_Shared room   -89.090227\n",
              "10                 rt_Private room   -65.644241\n",
              "2                reviews_per_month    -1.616417\n",
              "0                   minimum_nights    -0.809520\n",
              "1                number_of_reviews    -0.009088\n",
              "4                 availability_365     0.046786\n",
              "3   calculated_host_listings_count     0.142435\n",
              "5                      name_length     0.198697\n",
              "9                 ng_Staten Island     0.205908\n",
              "8                        ng_Queens     9.690562\n",
              "6                      ng_Brooklyn    19.804003\n",
              "7                     ng_Manhattan    44.170466"
            ]
          },
          "metadata": {
            "tags": []
          },
          "execution_count": 70
        }
      ]
    },
    {
      "cell_type": "code",
      "metadata": {
        "id": "HI-uU0zhGnmH",
        "outputId": "91adfb40-31d2-4129-8cfe-10861e5f830c",
        "colab": {
          "base_uri": "https://localhost:8080/",
          "height": 36
        }
      },
      "source": [
        "### Calculate RMSE\n",
        "rmse1 = np.sqrt(metrics.mean_squared_error(y_test1, y_pred1))\n",
        "rmse1"
      ],
      "execution_count": 71,
      "outputs": [
        {
          "output_type": "execute_result",
          "data": {
            "text/plain": [
              "37.68798547656789"
            ]
          },
          "metadata": {
            "tags": []
          },
          "execution_count": 71
        }
      ]
    },
    {
      "cell_type": "code",
      "metadata": {
        "id": "EYNo-T-UG4dL",
        "outputId": "5e2d12ac-c9e4-42ac-cc87-228edba5ee8f",
        "colab": {
          "base_uri": "https://localhost:8080/",
          "height": 726
        }
      },
      "source": [
        "### Taking a closer look at the estimates\n",
        "X2 = sm.add_constant(x_train1)\n",
        "est = sm.OLS(y_train1, X2)\n",
        "est2 = est.fit()\n",
        "print(est2.summary())"
      ],
      "execution_count": 72,
      "outputs": [
        {
          "output_type": "stream",
          "text": [
            "                            OLS Regression Results                            \n",
            "==============================================================================\n",
            "Dep. Variable:                  price   R-squared:                       0.503\n",
            "Model:                            OLS   Adj. R-squared:                  0.503\n",
            "Method:                 Least Squares   F-statistic:                     2882.\n",
            "Date:                Sat, 24 Oct 2020   Prob (F-statistic):               0.00\n",
            "Time:                        07:09:23   Log-Likelihood:            -1.7259e+05\n",
            "No. Observations:               34135   AIC:                         3.452e+05\n",
            "Df Residuals:                   34122   BIC:                         3.453e+05\n",
            "Df Model:                          12                                         \n",
            "Covariance Type:            nonrobust                                         \n",
            "==================================================================================================\n",
            "                                     coef    std err          t      P>|t|      [0.025      0.975]\n",
            "--------------------------------------------------------------------------------------------------\n",
            "const                            109.6210      1.526     71.839      0.000     106.630     112.612\n",
            "minimum_nights                    -0.8095      0.027    -30.109      0.000      -0.862      -0.757\n",
            "number_of_reviews                 -0.0091      0.006     -1.607      0.108      -0.020       0.002\n",
            "reviews_per_month                 -1.6164      0.163     -9.906      0.000      -1.936      -1.297\n",
            "calculated_host_listings_count     0.1424      0.008     18.082      0.000       0.127       0.158\n",
            "availability_365                   0.0468      0.002     26.685      0.000       0.043       0.050\n",
            "name_length                        0.1987      0.020      9.866      0.000       0.159       0.238\n",
            "ng_Brooklyn                       19.8040      1.349     14.680      0.000      17.160      22.448\n",
            "ng_Manhattan                      44.1705      1.356     32.576      0.000      41.513      46.828\n",
            "ng_Queens                          9.6906      1.428      6.787      0.000       6.892      12.489\n",
            "ng_Staten Island                   0.2059      2.583      0.080      0.936      -4.857       5.268\n",
            "rt_Private room                  -65.6442      0.427   -153.848      0.000     -66.481     -64.808\n",
            "rt_Shared room                   -89.0902      1.315    -67.764      0.000     -91.667     -86.513\n",
            "==============================================================================\n",
            "Omnibus:                     2348.378   Durbin-Watson:                   1.999\n",
            "Prob(Omnibus):                  0.000   Jarque-Bera (JB):             3132.292\n",
            "Skew:                           0.617   Prob(JB):                         0.00\n",
            "Kurtosis:                       3.825   Cond. No.                     2.69e+03\n",
            "==============================================================================\n",
            "\n",
            "Warnings:\n",
            "[1] Standard Errors assume that the covariance matrix of the errors is correctly specified.\n",
            "[2] The condition number is large, 2.69e+03. This might indicate that there are\n",
            "strong multicollinearity or other numerical problems.\n"
          ],
          "name": "stdout"
        }
      ]
    },
    {
      "cell_type": "markdown",
      "metadata": {
        "id": "9dLKyzKQOCMk"
      },
      "source": [
        "Model Interpretation\n",
        "Now that we have the results of our model, lets try to interpret it in detail.\n",
        "\n",
        "\n",
        "\n",
        "\n",
        "1.   We first look at the Adjusted R square value since this is a Multiple linear regression. It tell us that our independent variables can explain 50.3% of variations in our dependent variable, which is price.\n",
        "The constant or the y intercept has a value of 109.56. This means that putting all other x variables at 0, an Entire Apt/Home in Bronx will have a predicted price of 109.56. Remember when we created dummy variables we dropped one dummy from each column which we use as reference.\n",
        "2.   Let's now look at the coefficients. The coefficient of ng_Manhattan is 44.09. We interpret as: Everything else being constant, an Entire Apt/ Home in Manhattan will cost 44.09 more that same in Bronx. We can similarly interpret coefficient of minimum night as: With everything else being constant, with every one unit increase in minimum number of nights, the predicted price decreases by 0.8075.\n",
        "The std error is nothing but sample standard deviation for each variable. the t column shows the value of t statistic which is the z score of the sample variable. Z score tells us how far a sample is from its mean. A Z score of 2 tells us that the sample is two standard deviation away from the mean.\n",
        "P values suggests how significant these estimates are. Considering \n",
        "\n",
        "1.   alpha of 0.05, we can reject the Null hypothesis for all variables except number_of_reviews, and ng_Staten Island. Alpha is the degree of error we are willing to accept. we have chosen alpha as 5% which is also most commonly used.\n",
        "4. The confidence intervals show the upper bound and lower bound for the TRUE POPULATION coefficient with 95% confidence."
      ]
    },
    {
      "cell_type": "markdown",
      "metadata": {
        "id": "GghEhM7bOdIo"
      },
      "source": [
        "## Lets try to use the neighbourhood variable. It has more than 200 distinct values.\n",
        "Hence, when we create dummies we will have large number of variables."
      ]
    },
    {
      "cell_type": "code",
      "metadata": {
        "id": "hBFITPWq2d2C"
      },
      "source": [
        "dataset_onehot2 = pd.get_dummies(airbnb, columns=['neighbourhood_group',\"neighbourhood\",\"room_type\"], prefix = ['ng',\"nh\",\"rt\"],drop_first=True)"
      ],
      "execution_count": 73,
      "outputs": []
    },
    {
      "cell_type": "code",
      "metadata": {
        "id": "eEz-GcvV2zzB",
        "outputId": "a5b76c4a-454d-41a4-9e40-25b2101bcb12",
        "colab": {
          "base_uri": "https://localhost:8080/",
          "height": 36
        }
      },
      "source": [
        "dataset_onehot2.shape"
      ],
      "execution_count": 74,
      "outputs": [
        {
          "output_type": "execute_result",
          "data": {
            "text/plain": [
              "(42669, 231)"
            ]
          },
          "metadata": {
            "tags": []
          },
          "execution_count": 74
        }
      ]
    },
    {
      "cell_type": "code",
      "metadata": {
        "id": "qnmhioF73FMI"
      },
      "source": [
        "XL1 = dataset_onehot2.loc[:,dataset_onehot2.columns !='price']\n",
        "YL1 = dataset_onehot2[\"price\"]\n",
        "x_trainL11, x_testL11, y_trainL11, y_testL11 = train_test_split(XL1,YL1,test_size=0.20, random_state=42)"
      ],
      "execution_count": 75,
      "outputs": []
    },
    {
      "cell_type": "markdown",
      "metadata": {
        "id": "bQQAeL2v36so"
      },
      "source": [
        "We will use Lasso regression because it has the ability to nullify parameters that do not improve the model. Also, the dataset isn't large enough and hence Lasso is a good choice as it would add a little bit bias but reduce variance greatly. Starting with alpha=0.1 We can use crossvalidation and check for many values for alpha to find best one, but I will save this process for the next model which I think will procduce better results."
      ]
    },
    {
      "cell_type": "code",
      "metadata": {
        "id": "NgeQDolW3zTM",
        "outputId": "50ccda43-b4c5-4275-dfba-73dce636d5b3",
        "colab": {
          "base_uri": "https://localhost:8080/",
          "height": 73
        }
      },
      "source": [
        "regL1 = Lasso(alpha=0.01)\n",
        "regL1.fit(x_trainL11,y_trainL11)"
      ],
      "execution_count": 76,
      "outputs": [
        {
          "output_type": "execute_result",
          "data": {
            "text/plain": [
              "Lasso(alpha=0.01, copy_X=True, fit_intercept=True, max_iter=1000,\n",
              "      normalize=False, positive=False, precompute=False, random_state=None,\n",
              "      selection='cyclic', tol=0.0001, warm_start=False)"
            ]
          },
          "metadata": {
            "tags": []
          },
          "execution_count": 76
        }
      ]
    },
    {
      "cell_type": "code",
      "metadata": {
        "id": "WfvB0wes4OVJ",
        "outputId": "931e8e12-92ca-4cfd-d8fa-3062bcda3921",
        "colab": {
          "base_uri": "https://localhost:8080/",
          "height": 36
        }
      },
      "source": [
        "### R Squared\n",
        "### This regularised model did way better than the normal regresion\n",
        "regL1.score(x_trainL11, y_trainL11)"
      ],
      "execution_count": 77,
      "outputs": [
        {
          "output_type": "execute_result",
          "data": {
            "text/plain": [
              "0.5672687881098055"
            ]
          },
          "metadata": {
            "tags": []
          },
          "execution_count": 77
        }
      ]
    },
    {
      "cell_type": "code",
      "metadata": {
        "id": "Tvp5BFw25Dyw",
        "outputId": "cc8eeb9f-4e0a-44d0-de65-6626c7c0bf78",
        "colab": {
          "base_uri": "https://localhost:8080/",
          "height": 36
        }
      },
      "source": [
        "### RMSE\n",
        "### Smaller value than earlier\n",
        "y_predL1= regL1.predict(x_testL11)\n",
        "print(np.sqrt(metrics.mean_squared_error(y_testL11,y_predL1)))"
      ],
      "execution_count": 78,
      "outputs": [
        {
          "output_type": "stream",
          "text": [
            "35.122928878780456\n"
          ],
          "name": "stdout"
        }
      ]
    },
    {
      "cell_type": "code",
      "metadata": {
        "id": "wZlrfU-c5XjS",
        "outputId": "15fc695f-21f4-4c6c-97d8-afc24c6d8ad6",
        "colab": {
          "base_uri": "https://localhost:8080/",
          "height": 1000
        }
      },
      "source": [
        "### We can see that some parameters have zero coefficients.\n",
        "regL1.coef_"
      ],
      "execution_count": 79,
      "outputs": [
        {
          "output_type": "execute_result",
          "data": {
            "text/plain": [
              "array([-8.74108236e-01, -1.54617057e-02, -1.21937375e+00,  8.53509662e-02,\n",
              "        5.35827161e-02,  1.33032667e-01,  1.25894104e+01,  5.02217532e+01,\n",
              "        6.30345411e+00, -0.00000000e+00, -0.00000000e+00, -0.00000000e+00,\n",
              "        0.00000000e+00,  7.63815202e+00, -0.00000000e+00,  0.00000000e+00,\n",
              "       -5.54357765e-01,  0.00000000e+00,  0.00000000e+00, -0.00000000e+00,\n",
              "        0.00000000e+00,  0.00000000e+00,  6.14970076e-01,  0.00000000e+00,\n",
              "        0.00000000e+00,  0.00000000e+00, -9.25171095e+00, -0.00000000e+00,\n",
              "        2.15210517e+01, -1.25645271e+01,  0.00000000e+00, -0.00000000e+00,\n",
              "       -0.00000000e+00, -3.46151208e+00,  2.93815492e+01, -4.40132764e+00,\n",
              "        0.00000000e+00, -1.35292724e+00,  0.00000000e+00, -7.53591116e+00,\n",
              "        2.39801650e+01, -0.00000000e+00,  0.00000000e+00,  1.25661957e+01,\n",
              "       -6.68172734e+00,  0.00000000e+00,  0.00000000e+00,  0.00000000e+00,\n",
              "       -0.00000000e+00, -0.00000000e+00,  1.77925788e+01,  0.00000000e+00,\n",
              "        2.19739411e+01, -0.00000000e+00,  2.36120788e+00, -0.00000000e+00,\n",
              "        0.00000000e+00,  0.00000000e+00, -0.00000000e+00, -1.00691324e+01,\n",
              "        0.00000000e+00, -9.36309803e+00,  3.24240457e+01,  4.18289061e+00,\n",
              "       -0.00000000e+00, -0.00000000e+00,  2.54089178e+01, -0.00000000e+00,\n",
              "       -0.00000000e+00, -6.35982706e+00, -1.93706505e+01, -0.00000000e+00,\n",
              "       -1.06677933e+01, -0.00000000e+00, -0.00000000e+00, -0.00000000e+00,\n",
              "        0.00000000e+00, -0.00000000e+00, -0.00000000e+00,  0.00000000e+00,\n",
              "       -0.00000000e+00,  0.00000000e+00,  1.25439145e+01, -9.74644748e+00,\n",
              "        8.44196486e+00, -0.00000000e+00,  2.02917151e+00,  0.00000000e+00,\n",
              "        0.00000000e+00,  2.42860298e+01,  0.00000000e+00, -0.00000000e+00,\n",
              "       -0.00000000e+00,  2.10526598e+01,  3.26354283e+00, -0.00000000e+00,\n",
              "       -0.00000000e+00, -1.70088210e+00,  0.00000000e+00,  2.09497668e+01,\n",
              "        1.62664390e+01,  0.00000000e+00, -2.66496504e+01,  1.07339039e+01,\n",
              "        0.00000000e+00,  0.00000000e+00,  0.00000000e+00,  0.00000000e+00,\n",
              "       -0.00000000e+00, -0.00000000e+00, -0.00000000e+00, -4.02195262e+01,\n",
              "        0.00000000e+00, -0.00000000e+00, -0.00000000e+00,  0.00000000e+00,\n",
              "       -7.59662324e+00,  0.00000000e+00, -0.00000000e+00,  0.00000000e+00,\n",
              "       -1.07912900e+00,  0.00000000e+00,  0.00000000e+00,  0.00000000e+00,\n",
              "       -0.00000000e+00,  1.76495915e+01,  0.00000000e+00, -2.72090076e+00,\n",
              "       -0.00000000e+00, -1.69100140e+01,  0.00000000e+00, -0.00000000e+00,\n",
              "       -0.00000000e+00, -0.00000000e+00, -0.00000000e+00,  1.19531290e+01,\n",
              "       -8.76003400e+00, -0.00000000e+00, -2.14132561e+01,  0.00000000e+00,\n",
              "       -0.00000000e+00,  0.00000000e+00, -0.00000000e+00, -0.00000000e+00,\n",
              "       -0.00000000e+00,  9.86841871e+00,  1.14172298e+01,  0.00000000e+00,\n",
              "        0.00000000e+00, -0.00000000e+00, -0.00000000e+00, -0.00000000e+00,\n",
              "        0.00000000e+00,  6.16526418e+00,  0.00000000e+00,  0.00000000e+00,\n",
              "       -0.00000000e+00,  0.00000000e+00, -2.74320558e+00,  2.40462985e+01,\n",
              "       -0.00000000e+00,  0.00000000e+00, -4.04509726e+00,  4.31211323e+00,\n",
              "        0.00000000e+00,  0.00000000e+00,  1.57314639e+01, -2.61463507e+00,\n",
              "       -7.28727793e+00, -0.00000000e+00,  1.70573080e-01, -7.09408362e+00,\n",
              "       -0.00000000e+00, -0.00000000e+00, -5.18551549e-01,  0.00000000e+00,\n",
              "        3.66837901e+00, -1.65139034e+01,  0.00000000e+00, -2.32766344e+00,\n",
              "        0.00000000e+00,  0.00000000e+00,  0.00000000e+00, -5.49885002e+00,\n",
              "        0.00000000e+00, -0.00000000e+00,  1.42884540e+01, -0.00000000e+00,\n",
              "        0.00000000e+00, -0.00000000e+00,  1.88999557e+01,  2.42780596e+00,\n",
              "       -0.00000000e+00, -6.12939218e+00,  0.00000000e+00, -0.00000000e+00,\n",
              "       -0.00000000e+00,  4.89688416e-01, -2.51750491e+00,  1.19149026e+01,\n",
              "       -0.00000000e+00, -0.00000000e+00, -0.00000000e+00, -0.00000000e+00,\n",
              "       -0.00000000e+00,  2.12421594e+01, -2.01889270e+00, -0.00000000e+00,\n",
              "        0.00000000e+00, -4.46933223e+00, -2.67160415e+00, -0.00000000e+00,\n",
              "        3.24722848e+01, -0.00000000e+00, -3.88611567e+01, -0.00000000e+00,\n",
              "        0.00000000e+00,  1.90030321e+01, -0.00000000e+00, -0.00000000e+00,\n",
              "       -0.00000000e+00, -0.00000000e+00,  2.27856484e+01,  0.00000000e+00,\n",
              "        3.22295500e+00, -6.18423733e+00, -0.00000000e+00,  1.95573705e+00,\n",
              "       -6.16897114e+01, -8.45855686e+01])"
            ]
          },
          "metadata": {
            "tags": []
          },
          "execution_count": 79
        }
      ]
    },
    {
      "cell_type": "code",
      "metadata": {
        "id": "qkvi9SII5i2v",
        "outputId": "b1ef76d4-45e7-4dff-b167-a586e8e8ff58",
        "colab": {
          "base_uri": "https://localhost:8080/",
          "height": 399
        }
      },
      "source": [
        "CoeffLS1 = pd.DataFrame(columns=[\"Variable\",\"Coefficients\"])\n",
        "CoeffLS1[\"Variable\"]=x_trainL11.columns\n",
        "CoeffLS1[\"Coefficients\"]=regL1.coef_\n",
        "CoeffLS1.sort_values(\"Coefficients\", ascending = False)"
      ],
      "execution_count": 80,
      "outputs": [
        {
          "output_type": "execute_result",
          "data": {
            "text/html": [
              "<div>\n",
              "<style scoped>\n",
              "    .dataframe tbody tr th:only-of-type {\n",
              "        vertical-align: middle;\n",
              "    }\n",
              "\n",
              "    .dataframe tbody tr th {\n",
              "        vertical-align: top;\n",
              "    }\n",
              "\n",
              "    .dataframe thead th {\n",
              "        text-align: right;\n",
              "    }\n",
              "</style>\n",
              "<table border=\"1\" class=\"dataframe\">\n",
              "  <thead>\n",
              "    <tr style=\"text-align: right;\">\n",
              "      <th></th>\n",
              "      <th>Variable</th>\n",
              "      <th>Coefficients</th>\n",
              "    </tr>\n",
              "  </thead>\n",
              "  <tbody>\n",
              "    <tr>\n",
              "      <th>7</th>\n",
              "      <td>ng_Manhattan</td>\n",
              "      <td>50.221753</td>\n",
              "    </tr>\n",
              "    <tr>\n",
              "      <th>212</th>\n",
              "      <td>nh_Vinegar Hill</td>\n",
              "      <td>32.472285</td>\n",
              "    </tr>\n",
              "    <tr>\n",
              "      <th>62</th>\n",
              "      <td>nh_DUMBO</td>\n",
              "      <td>32.424046</td>\n",
              "    </tr>\n",
              "    <tr>\n",
              "      <th>34</th>\n",
              "      <td>nh_Brooklyn Heights</td>\n",
              "      <td>29.381549</td>\n",
              "    </tr>\n",
              "    <tr>\n",
              "      <th>66</th>\n",
              "      <td>nh_Downtown Brooklyn</td>\n",
              "      <td>25.408918</td>\n",
              "    </tr>\n",
              "    <tr>\n",
              "      <th>...</th>\n",
              "      <td>...</td>\n",
              "      <td>...</td>\n",
              "    </tr>\n",
              "    <tr>\n",
              "      <th>102</th>\n",
              "      <td>nh_Harlem</td>\n",
              "      <td>-26.649650</td>\n",
              "    </tr>\n",
              "    <tr>\n",
              "      <th>214</th>\n",
              "      <td>nh_Washington Heights</td>\n",
              "      <td>-38.861157</td>\n",
              "    </tr>\n",
              "    <tr>\n",
              "      <th>111</th>\n",
              "      <td>nh_Inwood</td>\n",
              "      <td>-40.219526</td>\n",
              "    </tr>\n",
              "    <tr>\n",
              "      <th>228</th>\n",
              "      <td>rt_Private room</td>\n",
              "      <td>-61.689711</td>\n",
              "    </tr>\n",
              "    <tr>\n",
              "      <th>229</th>\n",
              "      <td>rt_Shared room</td>\n",
              "      <td>-84.585569</td>\n",
              "    </tr>\n",
              "  </tbody>\n",
              "</table>\n",
              "<p>230 rows × 2 columns</p>\n",
              "</div>"
            ],
            "text/plain": [
              "                  Variable  Coefficients\n",
              "7             ng_Manhattan     50.221753\n",
              "212        nh_Vinegar Hill     32.472285\n",
              "62                nh_DUMBO     32.424046\n",
              "34     nh_Brooklyn Heights     29.381549\n",
              "66    nh_Downtown Brooklyn     25.408918\n",
              "..                     ...           ...\n",
              "102              nh_Harlem    -26.649650\n",
              "214  nh_Washington Heights    -38.861157\n",
              "111              nh_Inwood    -40.219526\n",
              "228        rt_Private room    -61.689711\n",
              "229         rt_Shared room    -84.585569\n",
              "\n",
              "[230 rows x 2 columns]"
            ]
          },
          "metadata": {
            "tags": []
          },
          "execution_count": 80
        }
      ]
    },
    {
      "cell_type": "markdown",
      "metadata": {
        "id": "QIgXCepc5oW2"
      },
      "source": [
        "### Finally, lets try Random forest regressor which we believe will give best results\n"
      ]
    },
    {
      "cell_type": "code",
      "metadata": {
        "id": "HetxO0jK5lZ6",
        "outputId": "87ec80c1-8b62-4e73-91da-6684dfb3266c",
        "colab": {
          "base_uri": "https://localhost:8080/",
          "height": 148
        }
      },
      "source": [
        "### Initially, lets build a tree without any constraints.\n",
        "regrRM = RandomForestRegressor(n_estimators=300)\n",
        "regrRM.fit(x_trainL11, y_trainL11)"
      ],
      "execution_count": 81,
      "outputs": [
        {
          "output_type": "execute_result",
          "data": {
            "text/plain": [
              "RandomForestRegressor(bootstrap=True, ccp_alpha=0.0, criterion='mse',\n",
              "                      max_depth=None, max_features='auto', max_leaf_nodes=None,\n",
              "                      max_samples=None, min_impurity_decrease=0.0,\n",
              "                      min_impurity_split=None, min_samples_leaf=1,\n",
              "                      min_samples_split=2, min_weight_fraction_leaf=0.0,\n",
              "                      n_estimators=300, n_jobs=None, oob_score=False,\n",
              "                      random_state=None, verbose=0, warm_start=False)"
            ]
          },
          "metadata": {
            "tags": []
          },
          "execution_count": 81
        }
      ]
    },
    {
      "cell_type": "code",
      "metadata": {
        "id": "irGphuHb601a",
        "outputId": "f3dc7554-ebb1-4fae-f70d-0fccb3b29fcb",
        "colab": {
          "base_uri": "https://localhost:8080/",
          "height": 54
        }
      },
      "source": [
        "### We get R squared value as 93.6%! There is obviously a problem of overfitting.\n",
        "\n",
        "print(regrRM.score(x_trainL11, y_trainL11))\n",
        "y_predL1= regrRM.predict(x_testL11)\n",
        "print(np.sqrt(metrics.mean_squared_error(y_testL11,y_predL1)))"
      ],
      "execution_count": 82,
      "outputs": [
        {
          "output_type": "stream",
          "text": [
            "0.9359121650375394\n",
            "34.90212188870185\n"
          ],
          "name": "stdout"
        }
      ]
    },
    {
      "cell_type": "code",
      "metadata": {
        "id": "034le2Qq6_BL",
        "outputId": "7e8ff085-d320-4b3f-89a8-c123d7089b95",
        "colab": {
          "base_uri": "https://localhost:8080/",
          "height": 1000
        }
      },
      "source": [
        "### Using feature importance, we can see which feature had most weight\n",
        "regrRM.feature_importances_"
      ],
      "execution_count": 83,
      "outputs": [
        {
          "output_type": "execute_result",
          "data": {
            "text/plain": [
              "array([5.21229895e-02, 5.79542097e-02, 7.71462916e-02, 3.75438186e-02,\n",
              "       7.35108942e-02, 8.47088470e-02, 3.87133894e-03, 6.09536989e-02,\n",
              "       1.32886140e-03, 2.66828904e-04, 8.95160565e-07, 1.13023617e-04,\n",
              "       2.79149916e-04, 1.21163019e-03, 2.05319107e-05, 2.24012375e-04,\n",
              "       6.70798041e-04, 4.41716441e-05, 1.81199418e-05, 3.67490290e-06,\n",
              "       2.02250042e-04, 6.75016841e-05, 3.03067580e-03, 4.37163822e-04,\n",
              "       3.87236435e-05, 2.55582854e-04, 2.45778155e-04, 1.59549327e-04,\n",
              "       7.78876785e-04, 2.88886045e-04, 1.24996565e-04, 3.24568060e-04,\n",
              "       2.63478755e-04, 2.09973759e-05, 1.46018151e-03, 1.53241882e-04,\n",
              "       6.78170841e-06, 2.37760165e-03, 9.01403738e-05, 4.21330564e-04,\n",
              "       1.39839365e-03, 1.68065431e-05, 6.24816209e-05, 2.58892417e-03,\n",
              "       9.56412887e-04, 5.81976485e-05, 2.30318521e-04, 1.01352472e-04,\n",
              "       9.35947159e-06, 1.39645968e-04, 1.93206544e-03, 1.18816993e-06,\n",
              "       5.00061650e-04, 5.00737343e-05, 2.52582216e-04, 1.14288005e-04,\n",
              "       1.54808717e-04, 5.94358393e-05, 4.59210196e-05, 4.30934757e-05,\n",
              "       2.24453025e-03, 3.65884943e-04, 6.09537869e-04, 9.05465493e-04,\n",
              "       1.80574091e-05, 8.03723833e-06, 8.05968060e-04, 1.40531389e-04,\n",
              "       3.09768457e-04, 1.62431213e-03, 4.58698506e-03, 5.44114879e-05,\n",
              "       9.31293833e-04, 2.13527969e-03, 1.12837522e-05, 8.00515007e-05,\n",
              "       1.82683434e-04, 7.43748227e-04, 3.54045856e-07, 3.98576394e-06,\n",
              "       1.62890687e-05, 2.61246321e-05, 2.03384004e-03, 2.16054167e-03,\n",
              "       3.33109964e-04, 4.66580130e-04, 8.91934348e-04, 1.37390418e-04,\n",
              "       4.17258259e-04, 2.17771550e-03, 2.18198695e-04, 7.09221014e-05,\n",
              "       2.61140631e-04, 1.44781543e-03, 9.23266295e-04, 8.61922984e-06,\n",
              "       9.63730096e-06, 1.50702283e-04, 2.96784651e-04, 3.09929489e-03,\n",
              "       1.06131458e-03, 8.80587019e-05, 9.82298118e-03, 3.30331187e-03,\n",
              "       1.77705233e-04, 1.13543856e-04, 1.34307176e-05, 1.36760664e-04,\n",
              "       1.68142559e-06, 1.05291076e-06, 1.74467228e-05, 3.98712470e-03,\n",
              "       4.46437189e-04, 7.89530690e-04, 6.80702797e-05, 4.84439287e-06,\n",
              "       6.75730302e-04, 2.18210278e-04, 7.49319496e-05, 8.12282971e-05,\n",
              "       1.15744834e-03, 1.34333749e-04, 5.33080683e-05, 4.21294946e-04,\n",
              "       6.32281367e-07, 1.77841070e-03, 1.40438163e-04, 1.84024518e-03,\n",
              "       8.77128970e-05, 3.08669483e-04, 1.14226070e-04, 3.69001587e-04,\n",
              "       3.39632066e-05, 7.99300910e-05, 1.30453579e-05, 2.40815555e-03,\n",
              "       6.40315706e-04, 2.69384785e-05, 2.01595139e-03, 1.55042454e-04,\n",
              "       7.46675156e-05, 1.83095907e-04, 7.54405035e-05, 2.55337959e-05,\n",
              "       3.36361346e-05, 1.65988923e-03, 2.94321703e-04, 5.92502285e-05,\n",
              "       1.99633722e-04, 9.81260737e-06, 1.69533506e-06, 2.02411837e-05,\n",
              "       2.50809442e-04, 6.79236982e-04, 3.40147186e-05, 2.86810782e-04,\n",
              "       3.03474306e-06, 3.39281993e-05, 1.71036809e-04, 2.02520915e-03,\n",
              "       1.39135842e-04, 4.58450362e-05, 2.77088511e-05, 3.56938139e-04,\n",
              "       7.36627874e-05, 5.13275506e-05, 1.28838414e-03, 1.39226792e-03,\n",
              "       2.28527329e-04, 1.65817782e-05, 2.68167476e-04, 2.52725232e-04,\n",
              "       2.78849454e-04, 6.61998177e-07, 7.09028282e-04, 3.93596596e-05,\n",
              "       2.97211377e-04, 6.19446953e-04, 6.62156747e-05, 1.29788338e-04,\n",
              "       0.00000000e+00, 5.11526082e-05, 9.31635511e-05, 5.50895512e-04,\n",
              "       3.74605217e-05, 2.43311652e-07, 1.13458136e-03, 1.97204662e-05,\n",
              "       2.41694329e-05, 1.79958874e-04, 1.04266796e-03, 3.62041508e-04,\n",
              "       2.94017434e-06, 2.25334589e-04, 1.62543188e-04, 3.05730269e-05,\n",
              "       1.05657798e-04, 6.58943676e-04, 1.01534545e-03, 9.71892475e-04,\n",
              "       1.81619527e-05, 4.72471691e-06, 1.49124307e-04, 1.22673721e-05,\n",
              "       3.39828200e-05, 5.57792400e-04, 3.02589934e-04, 4.66390566e-06,\n",
              "       2.05392931e-05, 2.68313194e-03, 2.52863336e-03, 1.98434355e-05,\n",
              "       6.67290205e-04, 1.68781274e-04, 9.94052273e-03, 2.00418389e-05,\n",
              "       0.00000000e+00, 1.49379584e-03, 1.43420782e-05, 3.67626847e-07,\n",
              "       3.26939529e-05, 5.76084269e-05, 1.04748034e-02, 1.20486101e-04,\n",
              "       5.80593311e-04, 1.57898626e-04, 2.72700301e-05, 3.90949179e-04,\n",
              "       3.48516201e-01, 6.66991811e-02])"
            ]
          },
          "metadata": {
            "tags": []
          },
          "execution_count": 83
        }
      ]
    },
    {
      "cell_type": "code",
      "metadata": {
        "id": "cXf-EKa8-RDX",
        "outputId": "ba6474c2-fbaf-4606-9bbe-446773b92db2",
        "colab": {
          "base_uri": "https://localhost:8080/",
          "height": 399
        }
      },
      "source": [
        "CoeffRM1 = pd.DataFrame(columns=[\"Variable\",\"FeatureImportance\"])\n",
        "CoeffRM1[\"Variable\"]=x_trainL11.columns\n",
        "CoeffRM1[\"FeatureImportance\"]=regrRM.feature_importances_\n",
        "CoeffRM1.sort_values(\"FeatureImportance\", ascending = False)"
      ],
      "execution_count": 84,
      "outputs": [
        {
          "output_type": "execute_result",
          "data": {
            "text/html": [
              "<div>\n",
              "<style scoped>\n",
              "    .dataframe tbody tr th:only-of-type {\n",
              "        vertical-align: middle;\n",
              "    }\n",
              "\n",
              "    .dataframe tbody tr th {\n",
              "        vertical-align: top;\n",
              "    }\n",
              "\n",
              "    .dataframe thead th {\n",
              "        text-align: right;\n",
              "    }\n",
              "</style>\n",
              "<table border=\"1\" class=\"dataframe\">\n",
              "  <thead>\n",
              "    <tr style=\"text-align: right;\">\n",
              "      <th></th>\n",
              "      <th>Variable</th>\n",
              "      <th>FeatureImportance</th>\n",
              "    </tr>\n",
              "  </thead>\n",
              "  <tbody>\n",
              "    <tr>\n",
              "      <th>228</th>\n",
              "      <td>rt_Private room</td>\n",
              "      <td>3.485162e-01</td>\n",
              "    </tr>\n",
              "    <tr>\n",
              "      <th>5</th>\n",
              "      <td>name_length</td>\n",
              "      <td>8.470885e-02</td>\n",
              "    </tr>\n",
              "    <tr>\n",
              "      <th>2</th>\n",
              "      <td>reviews_per_month</td>\n",
              "      <td>7.714629e-02</td>\n",
              "    </tr>\n",
              "    <tr>\n",
              "      <th>4</th>\n",
              "      <td>availability_365</td>\n",
              "      <td>7.351089e-02</td>\n",
              "    </tr>\n",
              "    <tr>\n",
              "      <th>229</th>\n",
              "      <td>rt_Shared room</td>\n",
              "      <td>6.669918e-02</td>\n",
              "    </tr>\n",
              "    <tr>\n",
              "      <th>...</th>\n",
              "      <td>...</td>\n",
              "      <td>...</td>\n",
              "    </tr>\n",
              "    <tr>\n",
              "      <th>219</th>\n",
              "      <td>nh_Westerleigh</td>\n",
              "      <td>3.676268e-07</td>\n",
              "    </tr>\n",
              "    <tr>\n",
              "      <th>78</th>\n",
              "      <td>nh_Eltingville</td>\n",
              "      <td>3.540459e-07</td>\n",
              "    </tr>\n",
              "    <tr>\n",
              "      <th>185</th>\n",
              "      <td>nh_Silver Lake</td>\n",
              "      <td>2.433117e-07</td>\n",
              "    </tr>\n",
              "    <tr>\n",
              "      <th>216</th>\n",
              "      <td>nh_West Farms</td>\n",
              "      <td>0.000000e+00</td>\n",
              "    </tr>\n",
              "    <tr>\n",
              "      <th>180</th>\n",
              "      <td>nh_Rossville</td>\n",
              "      <td>0.000000e+00</td>\n",
              "    </tr>\n",
              "  </tbody>\n",
              "</table>\n",
              "<p>230 rows × 2 columns</p>\n",
              "</div>"
            ],
            "text/plain": [
              "              Variable  FeatureImportance\n",
              "228    rt_Private room       3.485162e-01\n",
              "5          name_length       8.470885e-02\n",
              "2    reviews_per_month       7.714629e-02\n",
              "4     availability_365       7.351089e-02\n",
              "229     rt_Shared room       6.669918e-02\n",
              "..                 ...                ...\n",
              "219     nh_Westerleigh       3.676268e-07\n",
              "78      nh_Eltingville       3.540459e-07\n",
              "185     nh_Silver Lake       2.433117e-07\n",
              "216      nh_West Farms       0.000000e+00\n",
              "180       nh_Rossville       0.000000e+00\n",
              "\n",
              "[230 rows x 2 columns]"
            ]
          },
          "metadata": {
            "tags": []
          },
          "execution_count": 84
        }
      ]
    },
    {
      "cell_type": "code",
      "metadata": {
        "id": "nO6x8T9Q-XBR",
        "outputId": "9f240ddd-9ee4-4adb-9e22-d529134c52ef",
        "colab": {
          "base_uri": "https://localhost:8080/",
          "height": 353
        }
      },
      "source": [
        "regrRM.get_params()"
      ],
      "execution_count": 85,
      "outputs": [
        {
          "output_type": "execute_result",
          "data": {
            "text/plain": [
              "{'bootstrap': True,\n",
              " 'ccp_alpha': 0.0,\n",
              " 'criterion': 'mse',\n",
              " 'max_depth': None,\n",
              " 'max_features': 'auto',\n",
              " 'max_leaf_nodes': None,\n",
              " 'max_samples': None,\n",
              " 'min_impurity_decrease': 0.0,\n",
              " 'min_impurity_split': None,\n",
              " 'min_samples_leaf': 1,\n",
              " 'min_samples_split': 2,\n",
              " 'min_weight_fraction_leaf': 0.0,\n",
              " 'n_estimators': 300,\n",
              " 'n_jobs': None,\n",
              " 'oob_score': False,\n",
              " 'random_state': None,\n",
              " 'verbose': 0,\n",
              " 'warm_start': False}"
            ]
          },
          "metadata": {
            "tags": []
          },
          "execution_count": 85
        }
      ]
    },
    {
      "cell_type": "markdown",
      "metadata": {
        "id": "imj4BSUU-daM"
      },
      "source": [
        "Lets see what we can do to prevent overfitting\n",
        "\n",
        "1. We will set max depth to 50. This ensures that branching stops after \n",
        "50th branching, otherwise each sample may have its branch and overfit.\n",
        "2. We will use min_samples_split as 5. The default value is 2. This means that each internal node will split as long as it has a minimum of two sample. We dont want that!\n",
        "3. We will use min_samples_leaf as 4. The default is 1. This means that a node is considered leaf node if it has just one sample. This can cause severe overfitting!"
      ]
    },
    {
      "cell_type": "code",
      "metadata": {
        "id": "EEGSEgZC-zTh",
        "outputId": "95cf0c9d-564a-4164-8d0b-f4e0cd68e6e2",
        "colab": {
          "base_uri": "https://localhost:8080/",
          "height": 148
        }
      },
      "source": [
        "regrRM2 = RandomForestRegressor(n_estimators=200, max_depth = 50, min_samples_split = 5,min_samples_leaf =4)\n",
        "regrRM2.fit(x_trainL11, y_trainL11)"
      ],
      "execution_count": 86,
      "outputs": [
        {
          "output_type": "execute_result",
          "data": {
            "text/plain": [
              "RandomForestRegressor(bootstrap=True, ccp_alpha=0.0, criterion='mse',\n",
              "                      max_depth=50, max_features='auto', max_leaf_nodes=None,\n",
              "                      max_samples=None, min_impurity_decrease=0.0,\n",
              "                      min_impurity_split=None, min_samples_leaf=4,\n",
              "                      min_samples_split=5, min_weight_fraction_leaf=0.0,\n",
              "                      n_estimators=200, n_jobs=None, oob_score=False,\n",
              "                      random_state=None, verbose=0, warm_start=False)"
            ]
          },
          "metadata": {
            "tags": []
          },
          "execution_count": 86
        }
      ]
    },
    {
      "cell_type": "code",
      "metadata": {
        "id": "3eH-qGFP-74O",
        "outputId": "3ec41355-2f79-4959-de34-5115e2f23b76",
        "colab": {
          "base_uri": "https://localhost:8080/",
          "height": 54
        }
      },
      "source": [
        "### We get a smaller value for R squared\n",
        "print(regrRM2.score(x_trainL11, y_trainL11))\n",
        "y_predL1= regrRM2.predict(x_testL11)\n",
        "print(np.sqrt(metrics.mean_squared_error(y_testL11,y_predL1)))"
      ],
      "execution_count": 87,
      "outputs": [
        {
          "output_type": "stream",
          "text": [
            "0.7976269601486193\n",
            "34.346604598649385\n"
          ],
          "name": "stdout"
        }
      ]
    },
    {
      "cell_type": "code",
      "metadata": {
        "id": "YOsFjMrUA1S2",
        "outputId": "58e80782-e14a-4dbe-9c30-71d1eb69aa5f",
        "colab": {
          "base_uri": "https://localhost:8080/",
          "height": 399
        }
      },
      "source": [
        "CoeffRM2 = pd.DataFrame(columns=[\"Variable\",\"FeatureImportance\"])\n",
        "CoeffRM2[\"Variable\"]=x_trainL11.columns\n",
        "CoeffRM2[\"FeatureImportance\"]=regrRM2.feature_importances_\n",
        "CoeffRM2.sort_values(\"FeatureImportance\", ascending = False)"
      ],
      "execution_count": 88,
      "outputs": [
        {
          "output_type": "execute_result",
          "data": {
            "text/html": [
              "<div>\n",
              "<style scoped>\n",
              "    .dataframe tbody tr th:only-of-type {\n",
              "        vertical-align: middle;\n",
              "    }\n",
              "\n",
              "    .dataframe tbody tr th {\n",
              "        vertical-align: top;\n",
              "    }\n",
              "\n",
              "    .dataframe thead th {\n",
              "        text-align: right;\n",
              "    }\n",
              "</style>\n",
              "<table border=\"1\" class=\"dataframe\">\n",
              "  <thead>\n",
              "    <tr style=\"text-align: right;\">\n",
              "      <th></th>\n",
              "      <th>Variable</th>\n",
              "      <th>FeatureImportance</th>\n",
              "    </tr>\n",
              "  </thead>\n",
              "  <tbody>\n",
              "    <tr>\n",
              "      <th>228</th>\n",
              "      <td>rt_Private room</td>\n",
              "      <td>0.424248</td>\n",
              "    </tr>\n",
              "    <tr>\n",
              "      <th>229</th>\n",
              "      <td>rt_Shared room</td>\n",
              "      <td>0.081244</td>\n",
              "    </tr>\n",
              "    <tr>\n",
              "      <th>7</th>\n",
              "      <td>ng_Manhattan</td>\n",
              "      <td>0.073846</td>\n",
              "    </tr>\n",
              "    <tr>\n",
              "      <th>4</th>\n",
              "      <td>availability_365</td>\n",
              "      <td>0.065320</td>\n",
              "    </tr>\n",
              "    <tr>\n",
              "      <th>5</th>\n",
              "      <td>name_length</td>\n",
              "      <td>0.062693</td>\n",
              "    </tr>\n",
              "    <tr>\n",
              "      <th>...</th>\n",
              "      <td>...</td>\n",
              "      <td>...</td>\n",
              "    </tr>\n",
              "    <tr>\n",
              "      <th>173</th>\n",
              "      <td>nh_Richmondtown</td>\n",
              "      <td>0.000000</td>\n",
              "    </tr>\n",
              "    <tr>\n",
              "      <th>109</th>\n",
              "      <td>nh_Huguenot</td>\n",
              "      <td>0.000000</td>\n",
              "    </tr>\n",
              "    <tr>\n",
              "      <th>114</th>\n",
              "      <td>nh_Jamaica Estates</td>\n",
              "      <td>0.000000</td>\n",
              "    </tr>\n",
              "    <tr>\n",
              "      <th>121</th>\n",
              "      <td>nh_Laurelton</td>\n",
              "      <td>0.000000</td>\n",
              "    </tr>\n",
              "    <tr>\n",
              "      <th>115</th>\n",
              "      <td>nh_Jamaica Hills</td>\n",
              "      <td>0.000000</td>\n",
              "    </tr>\n",
              "  </tbody>\n",
              "</table>\n",
              "<p>230 rows × 2 columns</p>\n",
              "</div>"
            ],
            "text/plain": [
              "               Variable  FeatureImportance\n",
              "228     rt_Private room           0.424248\n",
              "229      rt_Shared room           0.081244\n",
              "7          ng_Manhattan           0.073846\n",
              "4      availability_365           0.065320\n",
              "5           name_length           0.062693\n",
              "..                  ...                ...\n",
              "173     nh_Richmondtown           0.000000\n",
              "109         nh_Huguenot           0.000000\n",
              "114  nh_Jamaica Estates           0.000000\n",
              "121        nh_Laurelton           0.000000\n",
              "115    nh_Jamaica Hills           0.000000\n",
              "\n",
              "[230 rows x 2 columns]"
            ]
          },
          "metadata": {
            "tags": []
          },
          "execution_count": 88
        }
      ]
    },
    {
      "cell_type": "code",
      "metadata": {
        "id": "n6xGnEiTe1tr",
        "outputId": "e395f21c-bb1a-4b79-f7d3-d468f3c90167",
        "colab": {
          "base_uri": "https://localhost:8080/",
          "height": 36
        }
      },
      "source": [
        "### We finally have the least RMSE among all model!\n",
        "y_predL1= regrRM2.predict(x_testL11)\n",
        "print(np.sqrt(metrics.mean_squared_error(y_testL11,y_predL1)))"
      ],
      "execution_count": 93,
      "outputs": [
        {
          "output_type": "stream",
          "text": [
            "34.346604598649385\n"
          ],
          "name": "stdout"
        }
      ]
    },
    {
      "cell_type": "markdown",
      "metadata": {
        "id": "inuOTKrHflvZ"
      },
      "source": [
        "# Comparing models"
      ]
    },
    {
      "cell_type": "code",
      "metadata": {
        "id": "oRIq0zKofjao"
      },
      "source": [
        "rmsedt = {\"Model\":[\"LR\",\"L1\",\"RFR1\",\"RFR2\"],\"RMSE\":[37.68798547656789, 35.122928878780456, 34.90212188870185, 34.346604598649385]}\n",
        "rmsedf = pd.DataFrame(rmsedt)\n",
        "rsqdt = {\"Model\":[\"LR\",\"L1\",\"RFR1\",\"RFR2\"],\"RSquared\":[0.5033306680968379,0.5672687881098055,0.9359121650375394,0.7976269601486193]}\n",
        "rsqdt = pd.DataFrame(rsqdt)"
      ],
      "execution_count": 95,
      "outputs": []
    },
    {
      "cell_type": "code",
      "metadata": {
        "id": "UKJhdZiCiR30",
        "outputId": "8f3708f5-c7f8-46c4-a41c-c6644153b647",
        "colab": {
          "base_uri": "https://localhost:8080/",
          "height": 382
        }
      },
      "source": [
        "sns.catplot(x=\"Model\", y=\"RMSE\", linestyles=[\"-\"],\n",
        "            kind=\"point\", data=rmsedf);"
      ],
      "execution_count": 96,
      "outputs": [
        {
          "output_type": "display_data",
          "data": {
            "image/png": "[encoded data removed]",
            "text/plain": [
              "<Figure size 360x360 with 1 Axes>"
            ]
          },
          "metadata": {
            "tags": []
          }
        }
      ]
    },
    {
      "cell_type": "code",
      "metadata": {
        "id": "TDO7J7eXin0b",
        "outputId": "e522ec01-cf19-479f-c915-29680929a0ef",
        "colab": {
          "base_uri": "https://localhost:8080/",
          "height": 382
        }
      },
      "source": [
        "sns.catplot(x=\"Model\", y=\"RSquared\", linestyles=[\"--\"], color =\"green\", kind=\"point\", data=rsqdt);"
      ],
      "execution_count": 97,
      "outputs": [
        {
          "output_type": "display_data",
          "data": {
            "image/png": "[encoded data removed]",
            "text/plain": [
              "<Figure size 360x360 with 1 Axes>"
            ]
          },
          "metadata": {
            "tags": []
          }
        }
      ]
    }
  ]
}